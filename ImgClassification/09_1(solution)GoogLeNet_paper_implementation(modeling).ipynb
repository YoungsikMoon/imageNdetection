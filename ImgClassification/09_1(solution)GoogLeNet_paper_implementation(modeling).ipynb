{
 "cells": [
  {
   "cell_type": "markdown",
   "metadata": {
    "id": "hAforfq96Ok8"
   },
   "source": [
    "# GoogleNet 구조"
   ]
  },
  {
   "cell_type": "code",
   "execution_count": 1,
   "metadata": {
    "id": "Ax8RUCNa8JB2"
   },
   "outputs": [],
   "source": [
    "import tensorflow as tf\n",
    "from tensorflow.keras import layers, models"
   ]
  },
  {
   "cell_type": "markdown",
   "metadata": {
    "id": "oap_fmzwFXXk"
   },
   "source": [
    "## conv layer function"
   ]
  },
  {
   "cell_type": "code",
   "execution_count": 2,
   "metadata": {
    "id": "7G6DUgLg2Zn1"
   },
   "outputs": [],
   "source": [
    "def conv(n, size=(3,3), strides=(1,1), padding='same', name='conv'):\n",
    "    output = layers.Conv2D(filters=n, kernel_size=size, strides=strides, padding=padding, activation='relu',name=name)\n",
    "    return output"
   ]
  },
  {
   "cell_type": "markdown",
   "metadata": {
    "id": "C1GjrehtFbNS"
   },
   "source": [
    "## inception module function"
   ]
  },
  {
   "cell_type": "code",
   "execution_count": 3,
   "metadata": {
    "id": "mnPKHImL1Bom"
   },
   "outputs": [],
   "source": [
    "def inception_module(input, n_1x1, n_3x3r, n_3x3, n_5x5r, n_5x5, n_pool, idx_layer):\n",
    "    name_layer = f'inception_{idx_layer}'\n",
    "\n",
    "    conv_1x1 = conv(n=n_1x1, size=(1,1), padding='same', name=f'{name_layer}/1x1')(input)\n",
    "\n",
    "    conv_3x3_reduce = conv(n=n_3x3r, size=(1,1), padding='same', name=f'{name_layer}/3x3_reduce')(input)\n",
    "    conv_3x3 = conv(n=n_3x3, size=(3,3), padding='same', name=f'{name_layer}/3x3')(conv_3x3_reduce)\n",
    "\n",
    "    conv_5x5_reduce = conv(n=n_5x5r, size=(1,1), padding='same', name=f'{name_layer}/5x5_reduce')(input)\n",
    "    conv_5x5 = conv(n=n_5x5, size=(5,5), padding='same', name=f'{name_layer}/5x5')(conv_5x5_reduce)\n",
    "\n",
    "    pool = layers.MaxPooling2D(pool_size=(3,3), strides=1, padding='same', name=f'{name_layer}/pool')(input)\n",
    "    pool_proj = conv(n=n_pool, size=(1,1), padding='same', name=f'{name_layer}/pool_proj')(pool)\n",
    "\n",
    "    # output : concat\n",
    "    output = layers.Concatenate(axis=-1, name=f'{name_layer}/output')([conv_1x1,conv_3x3,conv_5x5,pool_proj])\n",
    "    return output"
   ]
  },
  {
   "cell_type": "markdown",
   "metadata": {
    "id": "k1JbOyxcFfKL"
   },
   "source": [
    "## auxilary classifier function"
   ]
  },
  {
   "cell_type": "code",
   "execution_count": 4,
   "metadata": {
    "id": "Y6V326yL_scy"
   },
   "outputs": [],
   "source": [
    "def auxiliary_classifier(input, idx):\n",
    "    # auxiliary classifier **********************\n",
    "    avg_pool = layers.AveragePooling2D(pool_size=(5,5), strides=(3,3),\n",
    "                                             name=f'aux{idx}/avg_pool')(input)\n",
    "    conv = layers.Conv2D(128, (1,1), padding='same', activation='relu',\n",
    "                               name=f'aux{idx}/conv')(avg_pool)\n",
    "    flat = layers.Flatten()(conv)\n",
    "    fc = layers.Dense(1024, activation='relu', name=f'aux{idx}/fc')(flat)\n",
    "    drop_fc = layers.Dropout(rate=0.7)(fc)\n",
    "    aux_classifier = layers.Dense(1000, activation='softmax', name=f'aux{idx}/classifier')(drop_fc)\n",
    "    return aux_classifier"
   ]
  },
  {
   "cell_type": "markdown",
   "metadata": {
    "id": "zqjRGIGwFTq0"
   },
   "source": [
    "## Main modeling function"
   ]
  },
  {
   "cell_type": "code",
   "execution_count": 5,
   "metadata": {
    "id": "Zl6mSeKP-BzX"
   },
   "outputs": [],
   "source": [
    "def create_googlenet():\n",
    "    # creates GoogLeNet a.k.a. Inception v1 (Szegedy, 2015)\n",
    "    input = tf.keras.Input(shape=(224, 224, 3))\n",
    "\n",
    "    # 1 ---------------------------------------------------------------------\n",
    "    conv1_7x7_s2 = conv(n=64, size=(7,7), strides=(2,2), padding='same', name='conv1/7x7_s2')(input)\n",
    "    pool1 = layers.MaxPooling2D(pool_size=(3,3), strides=(2,2), padding='same', name='pool1/3x3_s2')(conv1_7x7_s2)\n",
    "    pool1_norm1 = layers.Lambda(tf.nn.local_response_normalization, name='pool1/norm1')(pool1)\n",
    "\n",
    "    # 2 ---------------------------------------------------------------------\n",
    "    conv2_3x3_reduce = conv(n=64, size=(1,1), name='conv2/3x3_reduce')(pool1_norm1)\n",
    "    conv2_3x3 = conv(n=192, size=(3,3), name='conv2/3x3')(conv2_3x3_reduce)\n",
    "    conv2_norm2 = layers.Lambda(tf.nn.local_response_normalization, name='conv2/norm2')(conv2_3x3)\n",
    "    pool2 = layers.MaxPooling2D(pool_size=(3,3), strides=(2,2), padding='same', name='pool2/3x3_s2')(conv2_norm2)\n",
    "\n",
    "    # 3 ---------------------------------------------------------------------\n",
    "    inception_3a = inception_module(input=pool2,\n",
    "                                       n_1x1=64, n_3x3r=96, n_3x3=128,\n",
    "                                       n_5x5r=16, n_5x5=32, n_pool=32, idx_layer='3a')\n",
    "    inception_3b = inception_module(input=inception_3a,\n",
    "                                        n_1x1=128, n_3x3r=128, n_3x3=192,\n",
    "                                        n_5x5r=32, n_5x5=96, n_pool=64, idx_layer='3b')\n",
    "    pool3 = layers.MaxPooling2D(pool_size=(3,3), strides=(2,2), padding='same', name='pool3/3x3_s2')(inception_3b)\n",
    "\n",
    "    # 4 ---------------------------------------------------------------------\n",
    "    inception_4a = inception_module(input=pool3,\n",
    "                                        n_1x1=192, n_3x3r=96, n_3x3=208,\n",
    "                                        n_5x5r=16, n_5x5=48, n_pool=64, idx_layer='4a')\n",
    "\n",
    "    # auxilary classifier\n",
    "    aux_classifier_1 = auxiliary_classifier(input=inception_4a, idx=1)\n",
    "\n",
    "    inception_4b = inception_module(input=inception_4a,\n",
    "                                        n_1x1=160, n_3x3r=112, n_3x3=224,\n",
    "                                        n_5x5r=24, n_5x5=64, n_pool=64, idx_layer='4b')\n",
    "    inception_4c = inception_module(input=inception_4b,\n",
    "                                        n_1x1=128, n_3x3r=128, n_3x3=256,\n",
    "                                        n_5x5r=24, n_5x5=64, n_pool=64, idx_layer='4c')\n",
    "    inception_4d = inception_module(input=inception_4c,\n",
    "                                        n_1x1=112, n_3x3r=144, n_3x3=288,\n",
    "                                        n_5x5r=32, n_5x5=64, n_pool=64, idx_layer='4d')\n",
    "    # auxilary classifier\n",
    "    aux_classifier_2 = auxiliary_classifier(input=inception_4d, idx=2)\n",
    "\n",
    "    inception_4e = inception_module(input=inception_4d,\n",
    "                                        n_1x1=256, n_3x3r=160, n_3x3=320,\n",
    "                                        n_5x5r=32, n_5x5=128, n_pool=128, idx_layer='4e')\n",
    "    pool4 = layers.MaxPooling2D(pool_size=(3,3), strides=(2,2), padding='same', name='pool4/3x3_s2')(inception_4e)\n",
    "\n",
    "    # 5 ---------------------------------------------------------------------\n",
    "    inception_5a = inception_module(input=pool4,\n",
    "                                        n_1x1=256, n_3x3r=160, n_3x3=320,\n",
    "                                        n_5x5r=32, n_5x5=128, n_pool=128, idx_layer='5a')\n",
    "    inception_5b = inception_module(input=inception_5a,\n",
    "                                        n_1x1=384, n_3x3r=192, n_3x3=384,\n",
    "                                        n_5x5r=48, n_5x5=128, n_pool=128, idx_layer='5b')\n",
    "\n",
    "\n",
    "    avgpool_7x7 = layers.AveragePooling2D(pool_size=(7,7), strides=(1,1), name='pool5/7x7_s2')(inception_5b)\n",
    "\n",
    "    # final(head) -----------------------------------------------------------\n",
    "    flat = layers.Flatten()(avgpool_7x7)\n",
    "    dropout = layers.Dropout(rate=0.4)(flat)\n",
    "    main_classifier = layers.Dense(1000, activation='softmax', name='main_classifier')(dropout)\n",
    "\n",
    "   # Model : input + output[aux.cls1, aux.cls2, main.cls]\n",
    "    googlenet = tf.keras.Model(inputs=input, outputs=[aux_classifier_1, aux_classifier_2, main_classifier])\n",
    "\n",
    "    return googlenet"
   ]
  },
  {
   "cell_type": "code",
   "execution_count": 6,
   "metadata": {
    "id": "5pgIXhzl6Lxk"
   },
   "outputs": [
    {
     "ename": "ValueError",
     "evalue": "Argument `name` must be a string and cannot contain character `/`. Received: name=conv1/7x7_s2 (of type <class 'str'>)",
     "output_type": "error",
     "traceback": [
      "\u001b[1;31m--------------------------------------------------------------\u001b[0m",
      "\u001b[1;31mValueError\u001b[0m                   Traceback (most recent call last)",
      "Cell \u001b[1;32mIn[6], line 1\u001b[0m\n\u001b[1;32m----> 1\u001b[0m model \u001b[38;5;241m=\u001b[39m \u001b[43mcreate_googlenet\u001b[49m\u001b[43m(\u001b[49m\u001b[43m)\u001b[49m\n",
      "Cell \u001b[1;32mIn[5], line 6\u001b[0m, in \u001b[0;36mcreate_googlenet\u001b[1;34m()\u001b[0m\n\u001b[0;32m      3\u001b[0m \u001b[38;5;28minput\u001b[39m \u001b[38;5;241m=\u001b[39m tf\u001b[38;5;241m.\u001b[39mkeras\u001b[38;5;241m.\u001b[39mInput(shape\u001b[38;5;241m=\u001b[39m(\u001b[38;5;241m224\u001b[39m, \u001b[38;5;241m224\u001b[39m, \u001b[38;5;241m3\u001b[39m))\n\u001b[0;32m      5\u001b[0m \u001b[38;5;66;03m# 1 ---------------------------------------------------------------------\u001b[39;00m\n\u001b[1;32m----> 6\u001b[0m conv1_7x7_s2 \u001b[38;5;241m=\u001b[39m \u001b[43mconv\u001b[49m\u001b[43m(\u001b[49m\u001b[43mn\u001b[49m\u001b[38;5;241;43m=\u001b[39;49m\u001b[38;5;241;43m64\u001b[39;49m\u001b[43m,\u001b[49m\u001b[43m \u001b[49m\u001b[43msize\u001b[49m\u001b[38;5;241;43m=\u001b[39;49m\u001b[43m(\u001b[49m\u001b[38;5;241;43m7\u001b[39;49m\u001b[43m,\u001b[49m\u001b[38;5;241;43m7\u001b[39;49m\u001b[43m)\u001b[49m\u001b[43m,\u001b[49m\u001b[43m \u001b[49m\u001b[43mstrides\u001b[49m\u001b[38;5;241;43m=\u001b[39;49m\u001b[43m(\u001b[49m\u001b[38;5;241;43m2\u001b[39;49m\u001b[43m,\u001b[49m\u001b[38;5;241;43m2\u001b[39;49m\u001b[43m)\u001b[49m\u001b[43m,\u001b[49m\u001b[43m \u001b[49m\u001b[43mpadding\u001b[49m\u001b[38;5;241;43m=\u001b[39;49m\u001b[38;5;124;43m'\u001b[39;49m\u001b[38;5;124;43msame\u001b[39;49m\u001b[38;5;124;43m'\u001b[39;49m\u001b[43m,\u001b[49m\u001b[43m \u001b[49m\u001b[43mname\u001b[49m\u001b[38;5;241;43m=\u001b[39;49m\u001b[38;5;124;43m'\u001b[39;49m\u001b[38;5;124;43mconv1/7x7_s2\u001b[39;49m\u001b[38;5;124;43m'\u001b[39;49m\u001b[43m)\u001b[49m(\u001b[38;5;28minput\u001b[39m)\n\u001b[0;32m      7\u001b[0m pool1 \u001b[38;5;241m=\u001b[39m layers\u001b[38;5;241m.\u001b[39mMaxPooling2D(pool_size\u001b[38;5;241m=\u001b[39m(\u001b[38;5;241m3\u001b[39m,\u001b[38;5;241m3\u001b[39m), strides\u001b[38;5;241m=\u001b[39m(\u001b[38;5;241m2\u001b[39m,\u001b[38;5;241m2\u001b[39m), padding\u001b[38;5;241m=\u001b[39m\u001b[38;5;124m'\u001b[39m\u001b[38;5;124msame\u001b[39m\u001b[38;5;124m'\u001b[39m, name\u001b[38;5;241m=\u001b[39m\u001b[38;5;124m'\u001b[39m\u001b[38;5;124mpool1/3x3_s2\u001b[39m\u001b[38;5;124m'\u001b[39m)(conv1_7x7_s2)\n\u001b[0;32m      8\u001b[0m pool1_norm1 \u001b[38;5;241m=\u001b[39m layers\u001b[38;5;241m.\u001b[39mLambda(tf\u001b[38;5;241m.\u001b[39mnn\u001b[38;5;241m.\u001b[39mlocal_response_normalization, name\u001b[38;5;241m=\u001b[39m\u001b[38;5;124m'\u001b[39m\u001b[38;5;124mpool1/norm1\u001b[39m\u001b[38;5;124m'\u001b[39m)(pool1)\n",
      "Cell \u001b[1;32mIn[2], line 2\u001b[0m, in \u001b[0;36mconv\u001b[1;34m(n, size, strides, padding, name)\u001b[0m\n\u001b[0;32m      1\u001b[0m \u001b[38;5;28;01mdef\u001b[39;00m \u001b[38;5;21mconv\u001b[39m(n, size\u001b[38;5;241m=\u001b[39m(\u001b[38;5;241m3\u001b[39m,\u001b[38;5;241m3\u001b[39m), strides\u001b[38;5;241m=\u001b[39m(\u001b[38;5;241m1\u001b[39m,\u001b[38;5;241m1\u001b[39m), padding\u001b[38;5;241m=\u001b[39m\u001b[38;5;124m'\u001b[39m\u001b[38;5;124msame\u001b[39m\u001b[38;5;124m'\u001b[39m, name\u001b[38;5;241m=\u001b[39m\u001b[38;5;124m'\u001b[39m\u001b[38;5;124mconv\u001b[39m\u001b[38;5;124m'\u001b[39m):\n\u001b[1;32m----> 2\u001b[0m     output \u001b[38;5;241m=\u001b[39m \u001b[43mlayers\u001b[49m\u001b[38;5;241;43m.\u001b[39;49m\u001b[43mConv2D\u001b[49m\u001b[43m(\u001b[49m\u001b[43mfilters\u001b[49m\u001b[38;5;241;43m=\u001b[39;49m\u001b[43mn\u001b[49m\u001b[43m,\u001b[49m\u001b[43m \u001b[49m\u001b[43mkernel_size\u001b[49m\u001b[38;5;241;43m=\u001b[39;49m\u001b[43msize\u001b[49m\u001b[43m,\u001b[49m\u001b[43m \u001b[49m\u001b[43mstrides\u001b[49m\u001b[38;5;241;43m=\u001b[39;49m\u001b[43mstrides\u001b[49m\u001b[43m,\u001b[49m\u001b[43m \u001b[49m\u001b[43mpadding\u001b[49m\u001b[38;5;241;43m=\u001b[39;49m\u001b[43mpadding\u001b[49m\u001b[43m,\u001b[49m\u001b[43m \u001b[49m\u001b[43mactivation\u001b[49m\u001b[38;5;241;43m=\u001b[39;49m\u001b[38;5;124;43m'\u001b[39;49m\u001b[38;5;124;43mrelu\u001b[39;49m\u001b[38;5;124;43m'\u001b[39;49m\u001b[43m,\u001b[49m\u001b[43mname\u001b[49m\u001b[38;5;241;43m=\u001b[39;49m\u001b[43mname\u001b[49m\u001b[43m)\u001b[49m\n\u001b[0;32m      3\u001b[0m     \u001b[38;5;28;01mreturn\u001b[39;00m output\n",
      "File \u001b[1;32mC:\\Main\\miniconda3\\envs\\alphaconda\\lib\\site-packages\\keras\\src\\layers\\convolutional\\conv2d.py:107\u001b[0m, in \u001b[0;36mConv2D.__init__\u001b[1;34m(self, filters, kernel_size, strides, padding, data_format, dilation_rate, groups, activation, use_bias, kernel_initializer, bias_initializer, kernel_regularizer, bias_regularizer, activity_regularizer, kernel_constraint, bias_constraint, **kwargs)\u001b[0m\n\u001b[0;32m     87\u001b[0m \u001b[38;5;28;01mdef\u001b[39;00m \u001b[38;5;21m__init__\u001b[39m(\n\u001b[0;32m     88\u001b[0m     \u001b[38;5;28mself\u001b[39m,\n\u001b[0;32m     89\u001b[0m     filters,\n\u001b[1;32m   (...)\u001b[0m\n\u001b[0;32m    105\u001b[0m     \u001b[38;5;241m*\u001b[39m\u001b[38;5;241m*\u001b[39mkwargs\n\u001b[0;32m    106\u001b[0m ):\n\u001b[1;32m--> 107\u001b[0m     \u001b[38;5;28msuper\u001b[39m()\u001b[38;5;241m.\u001b[39m\u001b[38;5;21m__init__\u001b[39m(\n\u001b[0;32m    108\u001b[0m         rank\u001b[38;5;241m=\u001b[39m\u001b[38;5;241m2\u001b[39m,\n\u001b[0;32m    109\u001b[0m         filters\u001b[38;5;241m=\u001b[39mfilters,\n\u001b[0;32m    110\u001b[0m         kernel_size\u001b[38;5;241m=\u001b[39mkernel_size,\n\u001b[0;32m    111\u001b[0m         strides\u001b[38;5;241m=\u001b[39mstrides,\n\u001b[0;32m    112\u001b[0m         padding\u001b[38;5;241m=\u001b[39mpadding,\n\u001b[0;32m    113\u001b[0m         data_format\u001b[38;5;241m=\u001b[39mdata_format,\n\u001b[0;32m    114\u001b[0m         dilation_rate\u001b[38;5;241m=\u001b[39mdilation_rate,\n\u001b[0;32m    115\u001b[0m         groups\u001b[38;5;241m=\u001b[39mgroups,\n\u001b[0;32m    116\u001b[0m         activation\u001b[38;5;241m=\u001b[39mactivation,\n\u001b[0;32m    117\u001b[0m         use_bias\u001b[38;5;241m=\u001b[39muse_bias,\n\u001b[0;32m    118\u001b[0m         kernel_initializer\u001b[38;5;241m=\u001b[39mkernel_initializer,\n\u001b[0;32m    119\u001b[0m         bias_initializer\u001b[38;5;241m=\u001b[39mbias_initializer,\n\u001b[0;32m    120\u001b[0m         kernel_regularizer\u001b[38;5;241m=\u001b[39mkernel_regularizer,\n\u001b[0;32m    121\u001b[0m         bias_regularizer\u001b[38;5;241m=\u001b[39mbias_regularizer,\n\u001b[0;32m    122\u001b[0m         activity_regularizer\u001b[38;5;241m=\u001b[39mactivity_regularizer,\n\u001b[0;32m    123\u001b[0m         kernel_constraint\u001b[38;5;241m=\u001b[39mkernel_constraint,\n\u001b[0;32m    124\u001b[0m         bias_constraint\u001b[38;5;241m=\u001b[39mbias_constraint,\n\u001b[0;32m    125\u001b[0m         \u001b[38;5;241m*\u001b[39m\u001b[38;5;241m*\u001b[39mkwargs\n\u001b[0;32m    126\u001b[0m     )\n",
      "File \u001b[1;32mC:\\Main\\miniconda3\\envs\\alphaconda\\lib\\site-packages\\keras\\src\\layers\\convolutional\\base_conv.py:107\u001b[0m, in \u001b[0;36mBaseConv.__init__\u001b[1;34m(self, rank, filters, kernel_size, strides, padding, data_format, dilation_rate, groups, activation, use_bias, kernel_initializer, bias_initializer, kernel_regularizer, bias_regularizer, activity_regularizer, kernel_constraint, bias_constraint, lora_rank, **kwargs)\u001b[0m\n\u001b[0;32m     85\u001b[0m \u001b[38;5;28;01mdef\u001b[39;00m \u001b[38;5;21m__init__\u001b[39m(\n\u001b[0;32m     86\u001b[0m     \u001b[38;5;28mself\u001b[39m,\n\u001b[0;32m     87\u001b[0m     rank,\n\u001b[1;32m   (...)\u001b[0m\n\u001b[0;32m    105\u001b[0m     \u001b[38;5;241m*\u001b[39m\u001b[38;5;241m*\u001b[39mkwargs,\n\u001b[0;32m    106\u001b[0m ):\n\u001b[1;32m--> 107\u001b[0m     \u001b[38;5;28msuper\u001b[39m()\u001b[38;5;241m.\u001b[39m\u001b[38;5;21m__init__\u001b[39m(activity_regularizer\u001b[38;5;241m=\u001b[39mactivity_regularizer, \u001b[38;5;241m*\u001b[39m\u001b[38;5;241m*\u001b[39mkwargs)\n\u001b[0;32m    108\u001b[0m     \u001b[38;5;28mself\u001b[39m\u001b[38;5;241m.\u001b[39mrank \u001b[38;5;241m=\u001b[39m rank\n\u001b[0;32m    109\u001b[0m     \u001b[38;5;28mself\u001b[39m\u001b[38;5;241m.\u001b[39mfilters \u001b[38;5;241m=\u001b[39m filters\n",
      "File \u001b[1;32mC:\\Main\\miniconda3\\envs\\alphaconda\\lib\\site-packages\\keras\\src\\layers\\layer.py:247\u001b[0m, in \u001b[0;36mLayer.__init__\u001b[1;34m(self, activity_regularizer, trainable, dtype, autocast, name, **kwargs)\u001b[0m\n\u001b[0;32m    245\u001b[0m BackendLayer\u001b[38;5;241m.\u001b[39m\u001b[38;5;21m__init__\u001b[39m(\u001b[38;5;28mself\u001b[39m)\n\u001b[0;32m    246\u001b[0m \u001b[38;5;28mself\u001b[39m\u001b[38;5;241m.\u001b[39m_lock \u001b[38;5;241m=\u001b[39m \u001b[38;5;28;01mFalse\u001b[39;00m\n\u001b[1;32m--> 247\u001b[0m \u001b[43mOperation\u001b[49m\u001b[38;5;241;43m.\u001b[39;49m\u001b[38;5;21;43m__init__\u001b[39;49m\u001b[43m(\u001b[49m\u001b[38;5;28;43mself\u001b[39;49m\u001b[43m,\u001b[49m\u001b[43m \u001b[49m\u001b[43mdtype\u001b[49m\u001b[38;5;241;43m=\u001b[39;49m\u001b[43mdtype\u001b[49m\u001b[43m,\u001b[49m\u001b[43m \u001b[49m\u001b[43mname\u001b[49m\u001b[38;5;241;43m=\u001b[39;49m\u001b[43mname\u001b[49m\u001b[43m)\u001b[49m\n\u001b[0;32m    248\u001b[0m \u001b[38;5;28mself\u001b[39m\u001b[38;5;241m.\u001b[39mactivity_regularizer \u001b[38;5;241m=\u001b[39m regularizers\u001b[38;5;241m.\u001b[39mget(activity_regularizer)\n\u001b[0;32m    249\u001b[0m input_dim_arg \u001b[38;5;241m=\u001b[39m kwargs\u001b[38;5;241m.\u001b[39mpop(\u001b[38;5;124m\"\u001b[39m\u001b[38;5;124minput_dim\u001b[39m\u001b[38;5;124m\"\u001b[39m, \u001b[38;5;28;01mNone\u001b[39;00m)\n",
      "File \u001b[1;32mC:\\Main\\miniconda3\\envs\\alphaconda\\lib\\site-packages\\keras\\src\\ops\\operation.py:21\u001b[0m, in \u001b[0;36mOperation.__init__\u001b[1;34m(self, dtype, name)\u001b[0m\n\u001b[0;32m     19\u001b[0m     name \u001b[38;5;241m=\u001b[39m auto_name(\u001b[38;5;28mself\u001b[39m\u001b[38;5;241m.\u001b[39m\u001b[38;5;18m__class__\u001b[39m\u001b[38;5;241m.\u001b[39m\u001b[38;5;18m__name__\u001b[39m)\n\u001b[0;32m     20\u001b[0m \u001b[38;5;28;01mif\u001b[39;00m \u001b[38;5;129;01mnot\u001b[39;00m \u001b[38;5;28misinstance\u001b[39m(name, \u001b[38;5;28mstr\u001b[39m) \u001b[38;5;129;01mor\u001b[39;00m \u001b[38;5;124m\"\u001b[39m\u001b[38;5;124m/\u001b[39m\u001b[38;5;124m\"\u001b[39m \u001b[38;5;129;01min\u001b[39;00m name:\n\u001b[1;32m---> 21\u001b[0m     \u001b[38;5;28;01mraise\u001b[39;00m \u001b[38;5;167;01mValueError\u001b[39;00m(\n\u001b[0;32m     22\u001b[0m         \u001b[38;5;124m\"\u001b[39m\u001b[38;5;124mArgument `name` must be a string and \u001b[39m\u001b[38;5;124m\"\u001b[39m\n\u001b[0;32m     23\u001b[0m         \u001b[38;5;124m\"\u001b[39m\u001b[38;5;124mcannot contain character `/`. \u001b[39m\u001b[38;5;124m\"\u001b[39m\n\u001b[0;32m     24\u001b[0m         \u001b[38;5;124mf\u001b[39m\u001b[38;5;124m\"\u001b[39m\u001b[38;5;124mReceived: name=\u001b[39m\u001b[38;5;132;01m{\u001b[39;00mname\u001b[38;5;132;01m}\u001b[39;00m\u001b[38;5;124m (of type \u001b[39m\u001b[38;5;132;01m{\u001b[39;00m\u001b[38;5;28mtype\u001b[39m(name)\u001b[38;5;132;01m}\u001b[39;00m\u001b[38;5;124m)\u001b[39m\u001b[38;5;124m\"\u001b[39m\n\u001b[0;32m     25\u001b[0m     )\n\u001b[0;32m     26\u001b[0m \u001b[38;5;28mself\u001b[39m\u001b[38;5;241m.\u001b[39m_dtype_policy \u001b[38;5;241m=\u001b[39m dtype_policies\u001b[38;5;241m.\u001b[39mget(dtype)\n\u001b[0;32m     27\u001b[0m \u001b[38;5;28mself\u001b[39m\u001b[38;5;241m.\u001b[39mname \u001b[38;5;241m=\u001b[39m name\n",
      "\u001b[1;31mValueError\u001b[0m: Argument `name` must be a string and cannot contain character `/`. Received: name=conv1/7x7_s2 (of type <class 'str'>)"
     ]
    }
   ],
   "source": [
    "model = create_googlenet()"
   ]
  },
  {
   "cell_type": "code",
   "execution_count": null,
   "metadata": {
    "colab": {
     "base_uri": "https://localhost:8080/"
    },
    "id": "xmXYAu8TC1Ph",
    "outputId": "c28542c5-abab-4819-8220-e8ef7ffb570d"
   },
   "outputs": [],
   "source": [
    "model.summary()"
   ]
  },
  {
   "cell_type": "code",
   "execution_count": null,
   "metadata": {
    "id": "J3tosh9cEm4U"
   },
   "outputs": [],
   "source": []
  }
 ],
 "metadata": {
  "colab": {
   "provenance": []
  },
  "kernelspec": {
   "display_name": "Python 3 (ipykernel)",
   "language": "python",
   "name": "python3"
  },
  "language_info": {
   "codemirror_mode": {
    "name": "ipython",
    "version": 3
   },
   "file_extension": ".py",
   "mimetype": "text/x-python",
   "name": "python",
   "nbconvert_exporter": "python",
   "pygments_lexer": "ipython3",
   "version": "3.10.13"
  }
 },
 "nbformat": 4,
 "nbformat_minor": 4
}
