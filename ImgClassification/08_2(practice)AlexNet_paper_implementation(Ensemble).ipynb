{
  "nbformat": 4,
  "nbformat_minor": 0,
  "metadata": {
    "colab": {
      "provenance": [],
      "toc_visible": true
    },
    "kernelspec": {
      "name": "python3",
      "display_name": "Python 3"
    },
    "language_info": {
      "name": "python"
    }
  },
  "cells": [
    {
      "cell_type": "code",
      "source": [
        "import tensorflow as tf"
      ],
      "metadata": {
        "id": "5hOTW-IkKNhQ"
      },
      "execution_count": 10,
      "outputs": []
    },
    {
      "cell_type": "code",
      "source": [
        "from tensorflow.keras.applications.resnet50 import ResNet50"
      ],
      "metadata": {
        "id": "NLcF3isGKUFY"
      },
      "execution_count": 11,
      "outputs": []
    },
    {
      "cell_type": "code",
      "execution_count": 12,
      "metadata": {
        "id": "JoeuUTFD39Uv"
      },
      "outputs": [],
      "source": [
        "from tensorflow.keras import datasets, layers, models\n",
        "\n",
        "from tensorflow.keras.layers import Dense, Flatten, MaxPooling2D\n",
        "from tensorflow.keras import Input\n",
        "from tensorflow.keras.layers import Dropout, BatchNormalization\n",
        "\n",
        "import matplotlib.pyplot as plt"
      ]
    },
    {
      "cell_type": "code",
      "execution_count": 13,
      "metadata": {
        "id": "AutEd-Qh6gij",
        "colab": {
          "base_uri": "https://localhost:8080/"
        },
        "outputId": "feae9a47-4021-481c-bcd2-5a97e76f535f"
      },
      "outputs": [
        {
          "output_type": "stream",
          "name": "stdout",
          "text": [
            "Downloading data from https://www.cs.toronto.edu/~kriz/cifar-10-python.tar.gz\n",
            "170498071/170498071 [==============================] - 3s 0us/step\n"
          ]
        }
      ],
      "source": [
        "# 케라스 데이터셋을 다운받아 변수에 각각 넣어준다.\n",
        "(train_images, train_labels), (test_images, test_labels) = datasets.cifar10.load_data()"
      ]
    },
    {
      "cell_type": "code",
      "source": [
        "train_images.shape, train_labels.shape, test_images.shape, test_labels.shape"
      ],
      "metadata": {
        "colab": {
          "base_uri": "https://localhost:8080/"
        },
        "id": "pyiqf5_NLj-f",
        "outputId": "968f7074-1d7d-425b-e050-26f41db98256"
      },
      "execution_count": 14,
      "outputs": [
        {
          "output_type": "execute_result",
          "data": {
            "text/plain": [
              "((50000, 32, 32, 3), (50000, 1), (10000, 32, 32, 3), (10000, 1))"
            ]
          },
          "metadata": {},
          "execution_count": 14
        }
      ]
    },
    {
      "cell_type": "code",
      "source": [
        "# sparse categorical crossentropy VS categorical crossentropy + one_hot\n",
        "y_train = tf.keras.utils.to_categorical(train_labels, 10)\n",
        "y_test = tf.keras.utils.to_categorical(test_labels, 10)\n",
        "y_train.shape, y_test.shape"
      ],
      "metadata": {
        "colab": {
          "base_uri": "https://localhost:8080/"
        },
        "id": "kagZCQr2Msd0",
        "outputId": "3b3670d9-6d52-458d-fd99-ee99fb9271c4"
      },
      "execution_count": 15,
      "outputs": [
        {
          "output_type": "execute_result",
          "data": {
            "text/plain": [
              "((50000, 10), (10000, 10))"
            ]
          },
          "metadata": {},
          "execution_count": 15
        }
      ]
    },
    {
      "cell_type": "code",
      "execution_count": 16,
      "metadata": {
        "id": "rW_uj8sj6ihs"
      },
      "outputs": [],
      "source": [
        "# 라벨 설정\n",
        "class_names = ['airplane', 'automobile', 'bird', 'cat', 'deer',\n",
        "               'dog', 'frog', 'horse', 'ship', 'truck']"
      ]
    },
    {
      "cell_type": "markdown",
      "source": [
        "### build cnn_model"
      ],
      "metadata": {
        "id": "ymt17jOSLs7B"
      }
    },
    {
      "cell_type": "code",
      "source": [
        "def cnn_model(n_hidden_node, dropout_prob):\n",
        "    base_model = ResNet50(include_top=False, input_shape = (32,32 ,3), weights = 'imagenet')\n",
        "    base_model.trainable = False\n",
        "\n",
        "    inputs = tf.keras.Input(shape=(32, 32, 3))\n",
        "\n",
        "    x = base_model(inputs, training=False)\n",
        "    x = tf.keras.layers.Flatten(input_shape=base_model.output_shape[1:])(x)\n",
        "    x = tf.keras.layers.Dense(n_hidden_node, activation='relu')(x)\n",
        "    x= tf.keras.layers.Dropout(dropout_prob)(x)\n",
        "    outputs = tf.keras.layers.Dense(10, activation='softmax')(x)\n",
        "\n",
        "    model = tf.keras.Model(inputs, outputs)\n",
        "\n",
        "    model.compile(optimizer = tf.keras.optimizers.Adam(learning_rate= 0.001),\n",
        "                  loss = 'categorical_crossentropy',\n",
        "                  metrics=['accuracy'])\n",
        "    return model"
      ],
      "metadata": {
        "id": "b1pejW_8L-qf"
      },
      "execution_count": 17,
      "outputs": []
    },
    {
      "cell_type": "markdown",
      "source": [
        "### train five cnn models"
      ],
      "metadata": {
        "id": "X9DyPg29sye6"
      }
    },
    {
      "cell_type": "code",
      "source": [
        "cnn_v1 = cnn_model(1024, 0.5)\n",
        "cnn_v2 = cnn_model(1024, 0.6)\n",
        "cnn_v3 = cnn_model(1024, 0.7)\n",
        "cnn_v4 = cnn_model(1024, 0.8)\n",
        "cnn_v5 = cnn_model(1024, 0.9)"
      ],
      "metadata": {
        "id": "rnjKGeGrL7TR"
      },
      "execution_count": 18,
      "outputs": []
    },
    {
      "cell_type": "code",
      "execution_count": 19,
      "metadata": {
        "colab": {
          "base_uri": "https://localhost:8080/"
        },
        "id": "fqJoWdOn7qtd",
        "outputId": "7a95443d-28f9-4f80-efad-7c6080da4ee3"
      },
      "outputs": [
        {
          "output_type": "stream",
          "name": "stdout",
          "text": [
            "391/391 [==============================] - 290s 722ms/step - loss: 1.5093 - accuracy: 0.5104 - val_loss: 1.1601 - val_accuracy: 0.5928\n"
          ]
        },
        {
          "output_type": "execute_result",
          "data": {
            "text/plain": [
              "<keras.src.callbacks.History at 0x7b8ab5fffbe0>"
            ]
          },
          "metadata": {},
          "execution_count": 19
        }
      ],
      "source": [
        "cnn_v1.fit(train_images, y_train, epochs = 1, validation_data=(test_images, y_test), batch_size=128)"
      ]
    },
    {
      "cell_type": "code",
      "source": [
        "cnn_v2.fit(train_images, y_train, epochs = 1, validation_data=(test_images, y_test), batch_size=128)"
      ],
      "metadata": {
        "colab": {
          "base_uri": "https://localhost:8080/"
        },
        "id": "bly4dFrGMYk7",
        "outputId": "bc7a77e9-0f0e-4867-957e-45e987271943"
      },
      "execution_count": 20,
      "outputs": [
        {
          "output_type": "stream",
          "name": "stdout",
          "text": [
            "391/391 [==============================] - 293s 736ms/step - loss: 1.6016 - accuracy: 0.4845 - val_loss: 1.1811 - val_accuracy: 0.5841\n"
          ]
        },
        {
          "output_type": "execute_result",
          "data": {
            "text/plain": [
              "<keras.src.callbacks.History at 0x7b8ab67e0e80>"
            ]
          },
          "metadata": {},
          "execution_count": 20
        }
      ]
    },
    {
      "cell_type": "code",
      "source": [
        "cnn_v3.fit(train_images, y_train, epochs = 1, validation_data=(test_images, y_test), batch_size=128)"
      ],
      "metadata": {
        "colab": {
          "base_uri": "https://localhost:8080/"
        },
        "id": "vw_y2ACUMZwh",
        "outputId": "00dd0a3a-4d40-4c99-e3d1-3cc1e8934ee8"
      },
      "execution_count": 21,
      "outputs": [
        {
          "output_type": "stream",
          "name": "stdout",
          "text": [
            "391/391 [==============================] - 278s 701ms/step - loss: 1.6931 - accuracy: 0.4592 - val_loss: 1.2239 - val_accuracy: 0.5681\n"
          ]
        },
        {
          "output_type": "execute_result",
          "data": {
            "text/plain": [
              "<keras.src.callbacks.History at 0x7b8accc49000>"
            ]
          },
          "metadata": {},
          "execution_count": 21
        }
      ]
    },
    {
      "cell_type": "code",
      "source": [
        "cnn_v4.fit(train_images, y_train, epochs = 1, validation_data=(test_images, y_test), batch_size=128)"
      ],
      "metadata": {
        "colab": {
          "base_uri": "https://localhost:8080/"
        },
        "id": "y1aSPJ2vMa0z",
        "outputId": "f96d59f5-793a-4387-c8cd-b5f1032eaea4"
      },
      "execution_count": 22,
      "outputs": [
        {
          "output_type": "stream",
          "name": "stdout",
          "text": [
            "391/391 [==============================] - 239s 604ms/step - loss: 1.8735 - accuracy: 0.4105 - val_loss: 1.2761 - val_accuracy: 0.5553\n"
          ]
        },
        {
          "output_type": "execute_result",
          "data": {
            "text/plain": [
              "<keras.src.callbacks.History at 0x7b8ab2d21300>"
            ]
          },
          "metadata": {},
          "execution_count": 22
        }
      ]
    },
    {
      "cell_type": "code",
      "source": [
        "cnn_v5.fit(train_images, y_train, epochs = 1, validation_data=(test_images, y_test), batch_size=128)"
      ],
      "metadata": {
        "colab": {
          "base_uri": "https://localhost:8080/"
        },
        "id": "nl0wSMGrMb5k",
        "outputId": "de5c8ff3-64d6-45bd-c8d7-b57312f965eb"
      },
      "execution_count": 23,
      "outputs": [
        {
          "output_type": "stream",
          "name": "stdout",
          "text": [
            "391/391 [==============================] - 239s 601ms/step - loss: 2.2737 - accuracy: 0.3108 - val_loss: 1.4299 - val_accuracy: 0.5168\n"
          ]
        },
        {
          "output_type": "execute_result",
          "data": {
            "text/plain": [
              "<keras.src.callbacks.History at 0x7b8ab52549a0>"
            ]
          },
          "metadata": {},
          "execution_count": 23
        }
      ]
    },
    {
      "cell_type": "markdown",
      "source": [
        "### evaluate five cnn model"
      ],
      "metadata": {
        "id": "fioXkw7oM_V8"
      }
    },
    {
      "cell_type": "code",
      "source": [
        "pred_v1 = cnn_v1.predict(test_images)\n",
        "pred_v2 = cnn_v2.predict(test_images)\n",
        "pred_v3 = cnn_v3.predict(test_images)\n",
        "pred_v4 = cnn_v4.predict(test_images)\n",
        "pred_v5 = cnn_v5.predict(test_images)"
      ],
      "metadata": {
        "colab": {
          "base_uri": "https://localhost:8080/"
        },
        "id": "Gnv6pmRsnIGl",
        "outputId": "10b62249-ff59-430b-c58f-bd77f7b0865f"
      },
      "execution_count": 24,
      "outputs": [
        {
          "output_type": "stream",
          "name": "stdout",
          "text": [
            "313/313 [==============================] - 45s 140ms/step\n",
            "313/313 [==============================] - 45s 139ms/step\n",
            "313/313 [==============================] - 46s 144ms/step\n",
            "313/313 [==============================] - 45s 141ms/step\n",
            "313/313 [==============================] - 45s 139ms/step\n"
          ]
        }
      ]
    },
    {
      "cell_type": "code",
      "source": [
        "import numpy as np\n",
        "from sklearn.metrics import accuracy_score\n",
        "\n",
        "y_test = np.argmax(y_test, axis=1)\n",
        "\n",
        "score_v1 = accuracy_score(np.argmax(pred_v1, axis=1), y_test)\n",
        "score_v2 = accuracy_score(np.argmax(pred_v2, axis=1), y_test)\n",
        "score_v3 = accuracy_score(np.argmax(pred_v3, axis=1), y_test)\n",
        "score_v4 = accuracy_score(np.argmax(pred_v4, axis=1), y_test)\n",
        "score_v5 = accuracy_score(np.argmax(pred_v5, axis=1), y_test)\n",
        "\n",
        "print(f'score_v1 : {score_v1}')\n",
        "print(f'score_v2 : {score_v2}')\n",
        "print(f'score_v3 : {score_v3}')\n",
        "print(f'score_v4 : {score_v4}')\n",
        "print(f'score_v5 : {score_v5}')"
      ],
      "metadata": {
        "colab": {
          "base_uri": "https://localhost:8080/"
        },
        "id": "GMzW0JbeM4dT",
        "outputId": "f91e7172-af11-4fac-c956-0b54ca4fc2b2"
      },
      "execution_count": 25,
      "outputs": [
        {
          "output_type": "stream",
          "name": "stdout",
          "text": [
            "score_v1 : 0.5928\n",
            "score_v2 : 0.5841\n",
            "score_v3 : 0.5681\n",
            "score_v4 : 0.5553\n",
            "score_v5 : 0.5168\n"
          ]
        }
      ]
    },
    {
      "cell_type": "markdown",
      "source": [
        "### ensemble 5 cnn model"
      ],
      "metadata": {
        "id": "y9R_kNOphP3w"
      }
    },
    {
      "cell_type": "code",
      "source": [
        "pred_ensemble = np.mean([pred_v1, pred_v2, pred_v3, pred_v4, pred_v5], axis=0)"
      ],
      "metadata": {
        "id": "wi_mNHfFhVHO"
      },
      "execution_count": 31,
      "outputs": []
    },
    {
      "cell_type": "code",
      "source": [
        "pred_ensemble = np.argmax(pred_ensemble, axis=1)\n",
        "accuracy_score(pred_ensemble, y_test)"
      ],
      "metadata": {
        "id": "UXj8xY2HkRoQ",
        "colab": {
          "base_uri": "https://localhost:8080/"
        },
        "outputId": "cb4ba5e3-bdb1-45b7-c2ee-49dd3cabc09c"
      },
      "execution_count": 32,
      "outputs": [
        {
          "output_type": "execute_result",
          "data": {
            "text/plain": [
              "0.5993"
            ]
          },
          "metadata": {},
          "execution_count": 32
        }
      ]
    },
    {
      "cell_type": "markdown",
      "source": [
        "### (practice)ensemble + 2 cnn model\n",
        "위 다섯개의 모델을 앙상블한 모델에 아래 조건에 맞는 2개의 모델을 추가로 학습하여 앙상블해봅시다.\n",
        "- n_hidden_node : 512, dropout_prob : 0.5\n",
        "- n_hidden_node : 256, dropout_prob : 0.5"
      ],
      "metadata": {
        "id": "Pe2qC1V3O9rv"
      }
    },
    {
      "cell_type": "code",
      "source": [],
      "metadata": {
        "id": "uNnrzuWnO9W3"
      },
      "execution_count": null,
      "outputs": []
    }
  ]
}