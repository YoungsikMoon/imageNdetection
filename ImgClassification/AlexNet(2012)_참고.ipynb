{
  "nbformat": 4,
  "nbformat_minor": 0,
  "metadata": {
    "colab": {
      "name": "AlexNet(2012).ipynb",
      "provenance": [],
      "collapsed_sections": [],
      "authorship_tag": "ABX9TyP0lrxjiiS7sdvFet+1TwUQ",
      "include_colab_link": true
    },
    "kernelspec": {
      "name": "python3",
      "display_name": "Python 3"
    },
    "accelerator": "GPU",
    "widgets": {
      "application/vnd.jupyter.widget-state+json": {
        "fd95d28c8cf548c4bc8b5554c94025cb": {
          "model_module": "@jupyter-widgets/controls",
          "model_name": "HBoxModel",
          "state": {
            "_view_name": "HBoxView",
            "_dom_classes": [],
            "_model_name": "HBoxModel",
            "_view_module": "@jupyter-widgets/controls",
            "_model_module_version": "1.5.0",
            "_view_count": null,
            "_view_module_version": "1.5.0",
            "box_style": "",
            "layout": "IPY_MODEL_7a97f78348de4f6bb2aa95b5ca06ee27",
            "_model_module": "@jupyter-widgets/controls",
            "children": [
              "IPY_MODEL_8981299f7a20407e939cc1787dfa5188",
              "IPY_MODEL_1be07d9ed1454048b0057daf76b53a73"
            ]
          }
        },
        "7a97f78348de4f6bb2aa95b5ca06ee27": {
          "model_module": "@jupyter-widgets/base",
          "model_name": "LayoutModel",
          "state": {
            "_view_name": "LayoutView",
            "grid_template_rows": null,
            "right": null,
            "justify_content": null,
            "_view_module": "@jupyter-widgets/base",
            "overflow": null,
            "_model_module_version": "1.2.0",
            "_view_count": null,
            "flex_flow": null,
            "width": null,
            "min_width": null,
            "border": null,
            "align_items": null,
            "bottom": null,
            "_model_module": "@jupyter-widgets/base",
            "top": null,
            "grid_column": null,
            "overflow_y": null,
            "overflow_x": null,
            "grid_auto_flow": null,
            "grid_area": null,
            "grid_template_columns": null,
            "flex": null,
            "_model_name": "LayoutModel",
            "justify_items": null,
            "grid_row": null,
            "max_height": null,
            "align_content": null,
            "visibility": null,
            "align_self": null,
            "height": null,
            "min_height": null,
            "padding": null,
            "grid_auto_rows": null,
            "grid_gap": null,
            "max_width": null,
            "order": null,
            "_view_module_version": "1.2.0",
            "grid_template_areas": null,
            "object_position": null,
            "object_fit": null,
            "grid_auto_columns": null,
            "margin": null,
            "display": null,
            "left": null
          }
        },
        "8981299f7a20407e939cc1787dfa5188": {
          "model_module": "@jupyter-widgets/controls",
          "model_name": "FloatProgressModel",
          "state": {
            "_view_name": "ProgressView",
            "style": "IPY_MODEL_9fba880a406e4dbdbfb115aee4f77588",
            "_dom_classes": [],
            "description": "",
            "_model_name": "FloatProgressModel",
            "bar_style": "success",
            "max": 2640397119,
            "_view_module": "@jupyter-widgets/controls",
            "_model_module_version": "1.5.0",
            "value": 2640397119,
            "_view_count": null,
            "_view_module_version": "1.5.0",
            "orientation": "horizontal",
            "min": 0,
            "description_tooltip": null,
            "_model_module": "@jupyter-widgets/controls",
            "layout": "IPY_MODEL_cbdebc5e20534de1ae0e06f8e4d8ffc8"
          }
        },
        "1be07d9ed1454048b0057daf76b53a73": {
          "model_module": "@jupyter-widgets/controls",
          "model_name": "HTMLModel",
          "state": {
            "_view_name": "HTMLView",
            "style": "IPY_MODEL_c7562c0b2ed44154b2a98d366e370ec3",
            "_dom_classes": [],
            "description": "",
            "_model_name": "HTMLModel",
            "placeholder": "​",
            "_view_module": "@jupyter-widgets/controls",
            "_model_module_version": "1.5.0",
            "value": " 2640397312/? [02:17&lt;00:00, 19250073.51it/s]",
            "_view_count": null,
            "_view_module_version": "1.5.0",
            "description_tooltip": null,
            "_model_module": "@jupyter-widgets/controls",
            "layout": "IPY_MODEL_96fd9be983624b7b8d12417a1992a2af"
          }
        },
        "9fba880a406e4dbdbfb115aee4f77588": {
          "model_module": "@jupyter-widgets/controls",
          "model_name": "ProgressStyleModel",
          "state": {
            "_view_name": "StyleView",
            "_model_name": "ProgressStyleModel",
            "description_width": "initial",
            "_view_module": "@jupyter-widgets/base",
            "_model_module_version": "1.5.0",
            "_view_count": null,
            "_view_module_version": "1.2.0",
            "bar_color": null,
            "_model_module": "@jupyter-widgets/controls"
          }
        },
        "cbdebc5e20534de1ae0e06f8e4d8ffc8": {
          "model_module": "@jupyter-widgets/base",
          "model_name": "LayoutModel",
          "state": {
            "_view_name": "LayoutView",
            "grid_template_rows": null,
            "right": null,
            "justify_content": null,
            "_view_module": "@jupyter-widgets/base",
            "overflow": null,
            "_model_module_version": "1.2.0",
            "_view_count": null,
            "flex_flow": null,
            "width": null,
            "min_width": null,
            "border": null,
            "align_items": null,
            "bottom": null,
            "_model_module": "@jupyter-widgets/base",
            "top": null,
            "grid_column": null,
            "overflow_y": null,
            "overflow_x": null,
            "grid_auto_flow": null,
            "grid_area": null,
            "grid_template_columns": null,
            "flex": null,
            "_model_name": "LayoutModel",
            "justify_items": null,
            "grid_row": null,
            "max_height": null,
            "align_content": null,
            "visibility": null,
            "align_self": null,
            "height": null,
            "min_height": null,
            "padding": null,
            "grid_auto_rows": null,
            "grid_gap": null,
            "max_width": null,
            "order": null,
            "_view_module_version": "1.2.0",
            "grid_template_areas": null,
            "object_position": null,
            "object_fit": null,
            "grid_auto_columns": null,
            "margin": null,
            "display": null,
            "left": null
          }
        },
        "c7562c0b2ed44154b2a98d366e370ec3": {
          "model_module": "@jupyter-widgets/controls",
          "model_name": "DescriptionStyleModel",
          "state": {
            "_view_name": "StyleView",
            "_model_name": "DescriptionStyleModel",
            "description_width": "",
            "_view_module": "@jupyter-widgets/base",
            "_model_module_version": "1.5.0",
            "_view_count": null,
            "_view_module_version": "1.2.0",
            "_model_module": "@jupyter-widgets/controls"
          }
        },
        "96fd9be983624b7b8d12417a1992a2af": {
          "model_module": "@jupyter-widgets/base",
          "model_name": "LayoutModel",
          "state": {
            "_view_name": "LayoutView",
            "grid_template_rows": null,
            "right": null,
            "justify_content": null,
            "_view_module": "@jupyter-widgets/base",
            "overflow": null,
            "_model_module_version": "1.2.0",
            "_view_count": null,
            "flex_flow": null,
            "width": null,
            "min_width": null,
            "border": null,
            "align_items": null,
            "bottom": null,
            "_model_module": "@jupyter-widgets/base",
            "top": null,
            "grid_column": null,
            "overflow_y": null,
            "overflow_x": null,
            "grid_auto_flow": null,
            "grid_area": null,
            "grid_template_columns": null,
            "flex": null,
            "_model_name": "LayoutModel",
            "justify_items": null,
            "grid_row": null,
            "max_height": null,
            "align_content": null,
            "visibility": null,
            "align_self": null,
            "height": null,
            "min_height": null,
            "padding": null,
            "grid_auto_rows": null,
            "grid_gap": null,
            "max_width": null,
            "order": null,
            "_view_module_version": "1.2.0",
            "grid_template_areas": null,
            "object_position": null,
            "object_fit": null,
            "grid_auto_columns": null,
            "margin": null,
            "display": null,
            "left": null
          }
        }
      }
    }
  },
  "cells": [
    {
      "cell_type": "markdown",
      "metadata": {
        "id": "view-in-github",
        "colab_type": "text"
      },
      "source": [
        "<a href=\"https://colab.research.google.com/github/Seonghoon-Yu/paper-implement-in-pytorch/blob/master/Classification/AlexNet(2012).ipynb\" target=\"_parent\"><img src=\"https://colab.research.google.com/assets/colab-badge.svg\" alt=\"Open In Colab\"/></a>"
      ]
    },
    {
      "cell_type": "code",
      "metadata": {
        "colab": {
          "base_uri": "https://localhost:8080/"
        },
        "id": "yBwG5mW_msWH",
        "outputId": "51e6ce84-814c-4198-803f-82100c60fbe2"
      },
      "source": [
        "from google.colab import drive\r\n",
        "drive.mount('alexnet')"
      ],
      "execution_count": null,
      "outputs": [
        {
          "output_type": "stream",
          "text": [
            "Mounted at alexnet\n"
          ],
          "name": "stdout"
        }
      ]
    },
    {
      "cell_type": "markdown",
      "metadata": {
        "id": "de2iJRW4oaiT"
      },
      "source": [
        "# 데이터셋 불러오고 transformation 적용하기\r\n",
        "데이터셋은 torchvision에서 제공하는 STL-10 dataset을 사용합니다.\r\n",
        "STL-10 dataset은 train과 test dataset만 제공합니다.\r\n",
        "따라서, test dataset을 분할해서 val dataset을 따로 만들어 주겠습니다.\r\n",
        "\r\n",
        "transformation은 resize, horizontal flip, normalize를 적용합니다.\r\n",
        "\r\n",
        "dataset을 불러오고 dataloader로 감싸줍니다."
      ]
    },
    {
      "cell_type": "code",
      "metadata": {
        "colab": {
          "base_uri": "https://localhost:8080/",
          "height": 121,
          "referenced_widgets": [
            "fd95d28c8cf548c4bc8b5554c94025cb",
            "7a97f78348de4f6bb2aa95b5ca06ee27",
            "8981299f7a20407e939cc1787dfa5188",
            "1be07d9ed1454048b0057daf76b53a73",
            "9fba880a406e4dbdbfb115aee4f77588",
            "cbdebc5e20534de1ae0e06f8e4d8ffc8",
            "c7562c0b2ed44154b2a98d366e370ec3",
            "96fd9be983624b7b8d12417a1992a2af"
          ]
        },
        "id": "YZMzsRP_m2ws",
        "outputId": "5f27797f-b5a8-409d-ee03-52e9ea50c8ab"
      },
      "source": [
        "# loading training dataset\r\n",
        "from torchvision import datasets\r\n",
        "import torchvision.transforms as transforms\r\n",
        "import os\r\n",
        "\r\n",
        "# specify a data path\r\n",
        "path2data = '/data'\r\n",
        "\r\n",
        "# if not exists the path, make the path\r\n",
        "if not os.path.exists(path2data):\r\n",
        "    os.mkdir(path2data)\r\n",
        "\r\n",
        "# load STL10 train dataset, and check\r\n",
        "data_transformer = transforms.Compose([transforms.ToTensor()])\r\n",
        "train_ds = datasets.STL10(path2data, split='train', download=True, transform=data_transformer)\r\n",
        "print(train_ds.data.shape)"
      ],
      "execution_count": null,
      "outputs": [
        {
          "output_type": "stream",
          "text": [
            "Downloading http://ai.stanford.edu/~acoates/stl10/stl10_binary.tar.gz to /data/stl10_binary.tar.gz\n"
          ],
          "name": "stdout"
        },
        {
          "output_type": "display_data",
          "data": {
            "application/vnd.jupyter.widget-view+json": {
              "model_id": "fd95d28c8cf548c4bc8b5554c94025cb",
              "version_minor": 0,
              "version_major": 2
            },
            "text/plain": [
              "HBox(children=(FloatProgress(value=0.0, max=2640397119.0), HTML(value='')))"
            ]
          },
          "metadata": {
            "tags": []
          }
        },
        {
          "output_type": "stream",
          "text": [
            "\n",
            "Extracting /data/stl10_binary.tar.gz to /data\n",
            "(5000, 3, 96, 96)\n"
          ],
          "name": "stdout"
        }
      ]
    },
    {
      "cell_type": "code",
      "metadata": {
        "colab": {
          "base_uri": "https://localhost:8080/"
        },
        "id": "vMGRj1JN4x29",
        "outputId": "497f4829-1147-48f1-ea74-c0af78e9d4c2"
      },
      "source": [
        "# load STL10 test dataset\r\n",
        "test0_ds = datasets.STL10(path2data, split='test', download=True, transform=data_transformer)\r\n",
        "print(test0_ds.data.shape)"
      ],
      "execution_count": null,
      "outputs": [
        {
          "output_type": "stream",
          "text": [
            "Files already downloaded and verified\n",
            "(8000, 3, 96, 96)\n"
          ],
          "name": "stdout"
        }
      ]
    },
    {
      "cell_type": "code",
      "metadata": {
        "colab": {
          "base_uri": "https://localhost:8080/"
        },
        "id": "uCb5AJbr12pd",
        "outputId": "317bee2e-44ac-406f-a343-823d64d82482"
      },
      "source": [
        "# calculate the mean and standard deviation of train_ds\r\n",
        "import numpy as np\r\n",
        "\r\n",
        "meanRGB = [np.mean(x.numpy(), axis=(1,2)) for x, _ in train_ds]\r\n",
        "stdRGB = [np.std(x.numpy(), axis=(1,2)) for x, _ in train_ds]\r\n",
        "\r\n",
        "meanR = np.mean([m[0] for m in meanRGB])\r\n",
        "meanG = np.mean([m[1] for m in meanRGB])\r\n",
        "meanB = np.mean([m[2] for m in meanRGB])\r\n",
        "\r\n",
        "stdR = np.mean([s[0] for s in stdRGB])\r\n",
        "stdG = np.mean([s[1] for s in stdRGB])\r\n",
        "stdB = np.mean([s[2] for s in stdRGB])\r\n",
        "\r\n",
        "print(meanR, meanG, meanB)\r\n",
        "print(stdR, stdG, stdB)"
      ],
      "execution_count": null,
      "outputs": [
        {
          "output_type": "stream",
          "text": [
            "0.4467106 0.43980986 0.40664646\n",
            "0.22414584 0.22148906 0.22389975\n"
          ],
          "name": "stdout"
        }
      ]
    },
    {
      "cell_type": "code",
      "metadata": {
        "id": "-UQuN3QN08fg"
      },
      "source": [
        "# define the image transformation for trains_ds\r\n",
        "# in paper, using normalize, horizontal reflection\r\n",
        "train_transformer = transforms.Compose([\r\n",
        "                transforms.ToTensor(),\r\n",
        "                transforms.Resize(227),\r\n",
        "                transforms.RandomHorizontalFlip(),\r\n",
        "                transforms.Normalize([meanR, meanG, meanB], [stdR, stdG, stdB]),\r\n",
        "])\r\n",
        "\r\n",
        "# define the image transforamtion for test0_ds\r\n",
        "test_transformer = transforms.Compose([\r\n",
        "                transforms.ToTensor(),\r\n",
        "                transforms.Normalize([meanR, meanG, meanB], [stdR, stdG, stdB]),\r\n",
        "                transforms.Resize(227)\r\n",
        "])"
      ],
      "execution_count": null,
      "outputs": []
    },
    {
      "cell_type": "code",
      "metadata": {
        "id": "ZejU9uap5TBX"
      },
      "source": [
        "# apply transformation to train_ds and test0_ds\r\n",
        "train_ds.transform = train_transformer\r\n",
        "test0_ds.transform = test_transformer"
      ],
      "execution_count": null,
      "outputs": []
    },
    {
      "cell_type": "code",
      "metadata": {
        "colab": {
          "base_uri": "https://localhost:8080/"
        },
        "id": "bPFPgL27U3mW",
        "outputId": "41e92e5e-0164-42dc-b13a-72abef3f914e"
      },
      "source": [
        "img, _ = train_ds[1]\r\n",
        "print(img.shape)"
      ],
      "execution_count": null,
      "outputs": [
        {
          "output_type": "stream",
          "text": [
            "torch.Size([3, 227, 227])\n"
          ],
          "name": "stdout"
        }
      ]
    },
    {
      "cell_type": "code",
      "metadata": {
        "colab": {
          "base_uri": "https://localhost:8080/",
          "height": 648
        },
        "id": "m1vbVlll5b5z",
        "outputId": "0c796d91-1983-4393-f1a2-09222dd6a176"
      },
      "source": [
        "import torch\r\n",
        "from torchvision import utils\r\n",
        "import matplotlib.pyplot as plt\r\n",
        "import numpy as np\r\n",
        "%matplotlib inline\r\n",
        "\r\n",
        "# display the transformed sample images from train_ds\r\n",
        "\r\n",
        "# define helper function to show images\r\n",
        "def show(img, y=None, color=True):\r\n",
        "\r\n",
        "    npimg = img.numpy()\r\n",
        "    npimg_tr = np.transpose(npimg, (1, 2, 0))\r\n",
        "    plt.imshow(npimg_tr)\r\n",
        "    \r\n",
        "    # plt.imshow(npimg_tr)\r\n",
        "    if y is not None:\r\n",
        "        plt.title('labels: ' + str(y))\r\n",
        "\r\n",
        "np.random.seed(0)\r\n",
        "torch.manual_seed(0)\r\n",
        "\r\n",
        "# pick a random sample image \r\n",
        "rnd_inds = int(np.random.randint(0, len(train_ds), 1))\r\n",
        "print(rnd_inds)\r\n",
        "img, label = train_ds[rnd_inds]\r\n",
        "print('images indices: ', rnd_inds)\r\n",
        "\r\n",
        "plt.figure(figsize=(10, 10))\r\n",
        "show(img)"
      ],
      "execution_count": null,
      "outputs": [
        {
          "output_type": "stream",
          "text": [
            "2732\n",
            "images indices:  2732\n"
          ],
          "name": "stdout"
        },
        {
          "output_type": "stream",
          "text": [
            "Clipping input data to the valid range for imshow with RGB data ([0..1] for floats or [0..255] for integers).\n"
          ],
          "name": "stderr"
        },
        {
          "output_type": "display_data",
          "data": {
            "image/png": "[encoded data removed]",
            "text/plain": [
              "<Figure size 720x720 with 1 Axes>"
            ]
          },
          "metadata": {
            "tags": [],
            "needs_background": "light"
          }
        }
      ]
    },
    {
      "cell_type": "code",
      "metadata": {
        "colab": {
          "base_uri": "https://localhost:8080/"
        },
        "id": "6y2P42QyFMGB",
        "outputId": "781a98e4-4578-4933-9fda-d45da461831f"
      },
      "source": [
        "# count the number of images per category in train_ds\r\n",
        "import collections\r\n",
        "y_train = [y for _, y in train_ds]\r\n",
        "counter_train = collections.Counter(y_train)\r\n",
        "print(counter_train)"
      ],
      "execution_count": null,
      "outputs": [
        {
          "output_type": "stream",
          "text": [
            "Counter({1: 500, 5: 500, 6: 500, 3: 500, 9: 500, 7: 500, 4: 500, 8: 500, 0: 500, 2: 500})\n"
          ],
          "name": "stdout"
        }
      ]
    },
    {
      "cell_type": "code",
      "metadata": {
        "colab": {
          "base_uri": "https://localhost:8080/"
        },
        "id": "K7RefwRg59pY",
        "outputId": "a72066af-1c02-4eb0-868d-6e1b9ef216ad"
      },
      "source": [
        "# check test0 dataset\r\n",
        "print(test0_ds.data.shape)"
      ],
      "execution_count": null,
      "outputs": [
        {
          "output_type": "stream",
          "text": [
            "(8000, 3, 96, 96)\n"
          ],
          "name": "stdout"
        }
      ]
    },
    {
      "cell_type": "code",
      "metadata": {
        "colab": {
          "base_uri": "https://localhost:8080/"
        },
        "id": "TbDzjkr3FiER",
        "outputId": "eaaa6acb-ffe3-42a6-8817-fbf605a5ed7c"
      },
      "source": [
        "# split the indices of test0_ds into two groups\r\n",
        "# there aren't validation dataset in STL10 dataset, so make validation dataset\r\n",
        "# by spliting test0 dataset\r\n",
        "from sklearn.model_selection import StratifiedShuffleSplit\r\n",
        "\r\n",
        "# StratifiedShuffleSplit splits indices of test0 in same proportion of labels\r\n",
        "sss = StratifiedShuffleSplit(n_splits=1, test_size=0.2, random_state=0)\r\n",
        "\r\n",
        "indices = list(range(len(test0_ds)))\r\n",
        "y_test0 = [y for _,y in test0_ds]\r\n",
        "\r\n",
        "for test_index, val_index in sss.split(indices, y_test0):\r\n",
        "    print('test :', len(test_index) , 'val :', len(val_index))"
      ],
      "execution_count": null,
      "outputs": [
        {
          "output_type": "stream",
          "text": [
            "test : 6400 val : 1600\n"
          ],
          "name": "stdout"
        }
      ]
    },
    {
      "cell_type": "code",
      "metadata": {
        "id": "_iJmdVyaGSVZ"
      },
      "source": [
        "# create two datasets from test0_ds\r\n",
        "from torch.utils.data import Subset\r\n",
        "\r\n",
        "# if test0_ds is updated, val_ds and test_ds are updated\r\n",
        "# because val_ds and test_ds are a subset of test0_ds\r\n",
        "val_ds = Subset(test0_ds, val_index)\r\n",
        "test_ds = Subset(test0_ds, test_index)"
      ],
      "execution_count": null,
      "outputs": []
    },
    {
      "cell_type": "code",
      "metadata": {
        "colab": {
          "base_uri": "https://localhost:8080/"
        },
        "id": "2SixkTMGJdkR",
        "outputId": "561d2244-780f-4f9f-b14e-90e13d406dac"
      },
      "source": [
        "# count the number of images per calss in val_ds and test_ds\r\n",
        "import collections\r\n",
        "import numpy as np\r\n",
        "\r\n",
        "y_test = [y for _, y in test_ds]\r\n",
        "y_val = [y for _, y in val_ds]\r\n",
        "\r\n",
        "counter_test = collections.Counter(y_test)\r\n",
        "counter_val = collections.Counter(y_val)\r\n",
        "print(counter_test)\r\n",
        "print(counter_val)"
      ],
      "execution_count": null,
      "outputs": [
        {
          "output_type": "stream",
          "text": [
            "Counter({6: 640, 0: 640, 4: 640, 5: 640, 9: 640, 2: 640, 3: 640, 1: 640, 7: 640, 8: 640})\n",
            "Counter({2: 160, 8: 160, 3: 160, 6: 160, 4: 160, 1: 160, 5: 160, 9: 160, 0: 160, 7: 160})\n"
          ],
          "name": "stdout"
        }
      ]
    },
    {
      "cell_type": "code",
      "metadata": {
        "colab": {
          "base_uri": "https://localhost:8080/"
        },
        "id": "Dak5SRViJ8Ys",
        "outputId": "4bbb30f2-3c18-4989-f2cf-984549d6adf2"
      },
      "source": [
        "# create dataloaders from train_ds and val_ds\r\n",
        "from torch.utils.data import DataLoader\r\n",
        "\r\n",
        "train_dl = DataLoader(train_ds, batch_size=32, shuffle=True)\r\n",
        "val_dl = DataLoader(val_ds, batch_size=32, shuffle=False)\r\n",
        "\r\n",
        "# check dataloader\r\n",
        "for x,y in train_dl:\r\n",
        "    print(x.shape)\r\n",
        "    print(y.shape)\r\n",
        "    break\r\n",
        "\r\n",
        "for x,y in val_dl:\r\n",
        "    print(x.shape)\r\n",
        "    print(y.shape)\r\n",
        "    break"
      ],
      "execution_count": null,
      "outputs": [
        {
          "output_type": "stream",
          "text": [
            "torch.Size([32, 3, 227, 227])\n",
            "torch.Size([32])\n",
            "torch.Size([32, 3, 227, 227])\n",
            "torch.Size([32])\n"
          ],
          "name": "stdout"
        }
      ]
    },
    {
      "cell_type": "markdown",
      "metadata": {
        "id": "1oRCb6lVKkhp"
      },
      "source": [
        "# 모델 구축하기"
      ]
    },
    {
      "cell_type": "code",
      "metadata": {
        "colab": {
          "base_uri": "https://localhost:8080/"
        },
        "id": "1QojQn23Kc4F",
        "outputId": "699b31c8-5706-479a-dfc6-300631e6599a"
      },
      "source": [
        "# define device\r\n",
        "device = torch.device('cuda' if torch.cuda.is_available() else 'cpu')\r\n",
        "print(device)"
      ],
      "execution_count": null,
      "outputs": [
        {
          "output_type": "stream",
          "text": [
            "cuda\n"
          ],
          "name": "stdout"
        }
      ]
    },
    {
      "cell_type": "code",
      "metadata": {
        "id": "_UKd_DfrKycR"
      },
      "source": [
        "import torch.nn as nn\r\n",
        "import torch.nn.functional as F\r\n",
        "\r\n",
        "class AlexNet(nn.Module):\r\n",
        "    def __init__(self, num_classes=10):\r\n",
        "        super(AlexNet,self).__init__()\r\n",
        "        # input size : (b x 3 x 227 x 227)\r\n",
        "        # 논문에는 image 크기가 224 pixel이라고 나와 있지만, 오타입니다.\r\n",
        "        # 227x227을 사용합니다.\r\n",
        "\r\n",
        "        # Conv layer\r\n",
        "        self.net = nn.Sequential(\r\n",
        "            nn.Conv2d(3, 96, kernel_size=11, stride=4, padding=0), # (b x 96 x 55 x 55)\r\n",
        "            nn.ReLU(inplace=True),\r\n",
        "            nn.LocalResponseNorm(size=5, alpha=0.0001, beta=0.75, k=2),\r\n",
        "            nn.MaxPool2d(kernel_size=3, stride=2), # (b x 96 x 27 x 27)\r\n",
        "\r\n",
        "            nn.Conv2d(96, 256, kernel_size=5, stride=1, padding=2), # (b x 256 x 27 x 27)\r\n",
        "            nn.ReLU(),\r\n",
        "            nn.LocalResponseNorm(size=5, alpha=0.0001, beta=0.75, k=2),\r\n",
        "            nn.MaxPool2d(kernel_size=3, stride=2), # (b x 256 x 13 x 13)\r\n",
        "\r\n",
        "            nn.Conv2d(256, 384, 3, 1, 1), # (b x 384 x 13 x 13)\r\n",
        "            nn.ReLU(),\r\n",
        "\r\n",
        "            nn.Conv2d(384, 384, 3, 1, 1), # (b x 384 x 13 x 13)\r\n",
        "            nn.ReLU(),\r\n",
        "\r\n",
        "            nn.Conv2d(384, 256, 3, 1, 1), # (b x 256 x 13 x 13)\r\n",
        "            nn.ReLU(),\r\n",
        "            nn.MaxPool2d(3, 2), # (b x 256 x 6 x 6)\r\n",
        "        )\r\n",
        "\r\n",
        "        # fc layer\r\n",
        "        self.classifier = nn.Sequential(\r\n",
        "            nn.Dropout(p=0.5, inplace=True),\r\n",
        "            nn.Linear(in_features=(256 * 6 * 6), out_features=4096),\r\n",
        "            nn.ReLU(),\r\n",
        "            nn.Dropout(p=0.5, inplace=True),\r\n",
        "            nn.Linear(in_features=4096, out_features=4096),\r\n",
        "            nn.ReLU(),\r\n",
        "            nn.Linear(in_features=4096, out_features=num_classes),\r\n",
        "        )\r\n",
        "\r\n",
        "        # weight initialization\r\n",
        "        self.init_weight()\r\n",
        "\r\n",
        "    # define weight initialization function\r\n",
        "    def init_weight(self):\r\n",
        "        for layer in self.net:\r\n",
        "            if isinstance(layer, nn.Conv2d):\r\n",
        "                nn.init.normal_(layer.weight, mean=0, std=0.01)\r\n",
        "                nn.init.constant_(layer.bias, 0)\r\n",
        "        # in paper, initialize bias to 1 for conv2, 4, 5 layer\r\n",
        "        nn.init.constant_(self.net[4].bias, 1)\r\n",
        "        nn.init.constant_(self.net[10].bias, 1)\r\n",
        "        nn.init.constant_(self.net[12].bias, 1)\r\n",
        "    \r\n",
        "    def forward(self,x):\r\n",
        "        x = self.net(x)\r\n",
        "        x = x.view(-1, 256 * 6* 6)\r\n",
        "        x = self.classifier(x)\r\n",
        "        return x"
      ],
      "execution_count": null,
      "outputs": []
    },
    {
      "cell_type": "code",
      "metadata": {
        "id": "H0ne1D_0RDuk",
        "colab": {
          "base_uri": "https://localhost:8080/"
        },
        "outputId": "8fe38987-857b-4c3f-bb54-cee053d12e55"
      },
      "source": [
        "# check the model\r\n",
        "model = AlexNet().to(device)\r\n",
        "print(model)"
      ],
      "execution_count": null,
      "outputs": [
        {
          "output_type": "stream",
          "text": [
            "AlexNet(\n",
            "  (net): Sequential(\n",
            "    (0): Conv2d(3, 96, kernel_size=(11, 11), stride=(4, 4))\n",
            "    (1): ReLU(inplace=True)\n",
            "    (2): LocalResponseNorm(5, alpha=0.0001, beta=0.75, k=2)\n",
            "    (3): MaxPool2d(kernel_size=3, stride=2, padding=0, dilation=1, ceil_mode=False)\n",
            "    (4): Conv2d(96, 256, kernel_size=(5, 5), stride=(1, 1), padding=(2, 2))\n",
            "    (5): ReLU()\n",
            "    (6): LocalResponseNorm(5, alpha=0.0001, beta=0.75, k=2)\n",
            "    (7): MaxPool2d(kernel_size=3, stride=2, padding=0, dilation=1, ceil_mode=False)\n",
            "    (8): Conv2d(256, 384, kernel_size=(3, 3), stride=(1, 1), padding=(1, 1))\n",
            "    (9): ReLU()\n",
            "    (10): Conv2d(384, 384, kernel_size=(3, 3), stride=(1, 1), padding=(1, 1))\n",
            "    (11): ReLU()\n",
            "    (12): Conv2d(384, 256, kernel_size=(3, 3), stride=(1, 1), padding=(1, 1))\n",
            "    (13): ReLU()\n",
            "    (14): MaxPool2d(kernel_size=3, stride=2, padding=0, dilation=1, ceil_mode=False)\n",
            "  )\n",
            "  (classifier): Sequential(\n",
            "    (0): Dropout(p=0.5, inplace=True)\n",
            "    (1): Linear(in_features=9216, out_features=4096, bias=True)\n",
            "    (2): ReLU()\n",
            "    (3): Dropout(p=0.5, inplace=True)\n",
            "    (4): Linear(in_features=4096, out_features=4096, bias=True)\n",
            "    (5): ReLU()\n",
            "    (6): Linear(in_features=4096, out_features=10, bias=True)\n",
            "  )\n",
            ")\n"
          ],
          "name": "stdout"
        }
      ]
    },
    {
      "cell_type": "code",
      "metadata": {
        "colab": {
          "base_uri": "https://localhost:8080/"
        },
        "id": "vFONhHtRseMg",
        "outputId": "cc809c71-670f-4fc5-b903-109b745375cc"
      },
      "source": [
        "# get the model summary\r\n",
        "from torchsummary import summary\r\n",
        "summary(model, input_size=(3, 227, 227), device=device.type)"
      ],
      "execution_count": null,
      "outputs": [
        {
          "output_type": "stream",
          "text": [
            "----------------------------------------------------------------\n",
            "        Layer (type)               Output Shape         Param #\n",
            "================================================================\n",
            "            Conv2d-1           [-1, 96, 55, 55]          34,944\n",
            "              ReLU-2           [-1, 96, 55, 55]               0\n",
            " LocalResponseNorm-3           [-1, 96, 55, 55]               0\n",
            "         MaxPool2d-4           [-1, 96, 27, 27]               0\n",
            "            Conv2d-5          [-1, 256, 27, 27]         614,656\n",
            "              ReLU-6          [-1, 256, 27, 27]               0\n",
            " LocalResponseNorm-7          [-1, 256, 27, 27]               0\n",
            "         MaxPool2d-8          [-1, 256, 13, 13]               0\n",
            "            Conv2d-9          [-1, 384, 13, 13]         885,120\n",
            "             ReLU-10          [-1, 384, 13, 13]               0\n",
            "           Conv2d-11          [-1, 384, 13, 13]       1,327,488\n",
            "             ReLU-12          [-1, 384, 13, 13]               0\n",
            "           Conv2d-13          [-1, 256, 13, 13]         884,992\n",
            "             ReLU-14          [-1, 256, 13, 13]               0\n",
            "        MaxPool2d-15            [-1, 256, 6, 6]               0\n",
            "          Dropout-16                 [-1, 9216]               0\n",
            "           Linear-17                 [-1, 4096]      37,752,832\n",
            "             ReLU-18                 [-1, 4096]               0\n",
            "          Dropout-19                 [-1, 4096]               0\n",
            "           Linear-20                 [-1, 4096]      16,781,312\n",
            "             ReLU-21                 [-1, 4096]               0\n",
            "           Linear-22                   [-1, 10]          40,970\n",
            "================================================================\n",
            "Total params: 58,322,314\n",
            "Trainable params: 58,322,314\n",
            "Non-trainable params: 0\n",
            "----------------------------------------------------------------\n",
            "Input size (MB): 0.59\n",
            "Forward/backward pass size (MB): 14.72\n",
            "Params size (MB): 222.48\n",
            "Estimated Total Size (MB): 237.79\n",
            "----------------------------------------------------------------\n"
          ],
          "name": "stdout"
        }
      ]
    },
    {
      "cell_type": "code",
      "metadata": {
        "id": "WAc2aPwpwUSw"
      },
      "source": [
        "# check weight initialization\r\n",
        "for p in model.parameters():\r\n",
        "    print(p)\r\n",
        "    break"
      ],
      "execution_count": null,
      "outputs": []
    },
    {
      "cell_type": "markdown",
      "metadata": {
        "id": "QeSZhkqBuH1m"
      },
      "source": [
        "# 모델 학습"
      ]
    },
    {
      "cell_type": "code",
      "metadata": {
        "id": "wqhYl7SBt9Ar"
      },
      "source": [
        "# define the loss function\r\n",
        "loss_func = nn.CrossEntropyLoss(reduction='sum')"
      ],
      "execution_count": null,
      "outputs": []
    },
    {
      "cell_type": "code",
      "metadata": {
        "id": "uPzGlUfVwMHR"
      },
      "source": [
        "# define the optimizer\r\n",
        "from torch import optim\r\n",
        "# opt = optim.SGD(model.parameters(), lr=0.001, momentum=0.9, weight_decay=0.0005)\r\n",
        "opt = optim.Adam(model.parameters(), lr=0.01)"
      ],
      "execution_count": null,
      "outputs": []
    },
    {
      "cell_type": "code",
      "metadata": {
        "id": "W-fFQGasx3ed"
      },
      "source": [
        "# read the current value of the learning rate using the following function\r\n",
        "def get_lr(opt):\r\n",
        "    for param_group in opt.param_groups:\r\n",
        "        return param_group['lr']"
      ],
      "execution_count": null,
      "outputs": []
    },
    {
      "cell_type": "code",
      "metadata": {
        "id": "S9Byk7JPxaft"
      },
      "source": [
        "# define lr_scheduler : 1/10 per 10 epochs\r\n",
        "from torch.optim.lr_scheduler import StepLR\r\n",
        "lr_scheduler = optim.lr_scheduler.StepLR(opt, step_size=30, gamma=0.1)"
      ],
      "execution_count": null,
      "outputs": []
    },
    {
      "cell_type": "code",
      "metadata": {
        "id": "6UHyV3LuyWNb"
      },
      "source": [
        "# define a function to count the number of correct predictions per mini-batch\r\n",
        "def metrics_batch(output, target):\r\n",
        "    # get output class\r\n",
        "    pred = output.argmax(dim=1, keepdim=True)\r\n",
        "    # compare output class with target class\r\n",
        "    corrects = pred.eq(target.view_as(pred)).sum().item()\r\n",
        "    return corrects"
      ],
      "execution_count": null,
      "outputs": []
    },
    {
      "cell_type": "code",
      "metadata": {
        "id": "FMukRj-dymYk"
      },
      "source": [
        "# define a function to compute the loss value per mini-batch\r\n",
        "def loss_batch(loss_func, output, target, opt=None):\r\n",
        "    loss = loss_func(output, target)\r\n",
        "\r\n",
        "    metric_b = metrics_batch(output, target)\r\n",
        "    if opt is not None:\r\n",
        "        opt.zero_grad()\r\n",
        "        loss.backward()\r\n",
        "        opt.step()\r\n",
        "    return loss.item(), metric_b"
      ],
      "execution_count": null,
      "outputs": []
    },
    {
      "cell_type": "code",
      "metadata": {
        "id": "73DzbhBZ0i3f"
      },
      "source": [
        "# develop a function to compute the loss value and the performance metric for the epoch\r\n",
        "def loss_epoch(model, loss_func, dataset_dl, sanity_check=False, opt=None):\r\n",
        "    running_loss = 0\r\n",
        "    running_metric = 0\r\n",
        "    len_data = len(dataset_dl.dataset)\r\n",
        "\r\n",
        "    for xb, yb in dataset_dl:\r\n",
        "        # move batcch to device\r\n",
        "        xb = xb.to(device)\r\n",
        "        yb = yb.to(device)\r\n",
        "        # get model output\r\n",
        "        output = model(xb)\r\n",
        "\r\n",
        "        # get loss per batch\r\n",
        "        loss_b, metric_b = loss_batch(loss_func, output, yb, opt)\r\n",
        "\r\n",
        "        # update running loss\r\n",
        "        running_loss += loss_b\r\n",
        "        # update running metric\r\n",
        "        if metric_b is not None:\r\n",
        "            running_metric += metric_b\r\n",
        "        \r\n",
        "        # break the loop in case of sanity check\r\n",
        "        if sanity_check is True:\r\n",
        "            break\r\n",
        "\r\n",
        "    # average loss value and metric value\r\n",
        "    loss = running_loss / float(len_data)\r\n",
        "    metric = running_metric / float(len_data)\r\n",
        "    return loss, metric"
      ],
      "execution_count": null,
      "outputs": []
    },
    {
      "cell_type": "code",
      "metadata": {
        "id": "JfCxBjdr14Qw"
      },
      "source": [
        "import time\r\n",
        "import copy\r\n",
        "\r\n",
        "# develop train_val function\r\n",
        "def train_val(model, params):\r\n",
        "    # extract model parameters\r\n",
        "    num_epochs = params['num_epochs']\r\n",
        "    loss_func = params['loss_func']\r\n",
        "    opt = params['optimizer']\r\n",
        "    train_dl = params['train_dl']\r\n",
        "    val_dl = params['val_dl']\r\n",
        "    sanity_check = params['sanity_check']\r\n",
        "    lr_scheduler = params['lr_scheduler']\r\n",
        "    path2weights = params['path2weights']\r\n",
        "\r\n",
        "    # keep a history of the loss and the metric value\r\n",
        "    loss_history = {\r\n",
        "        'train': [],\r\n",
        "        'val': [],\r\n",
        "    }\r\n",
        "\r\n",
        "    metric_history = {\r\n",
        "        'train': [],\r\n",
        "        'val': [],\r\n",
        "    }\r\n",
        "\r\n",
        "    # save the best perfirming model\r\n",
        "    best_model_wts = copy.deepcopy(model.state_dict())\r\n",
        "\r\n",
        "    # initializer the best loss to an infinite value\r\n",
        "    best_loss = float('inf')\r\n",
        "\r\n",
        "    for epoch in range(num_epochs):\r\n",
        "        start_time = time.time()\r\n",
        "\r\n",
        "        # get current learning rate\r\n",
        "        current_lr = get_lr(opt)\r\n",
        "        print('Epoch {}/{}, current lr={}'.format(epoch, num_epochs-1, current_lr))\r\n",
        "\r\n",
        "        # train model on trainin dataset\r\n",
        "        model.train()\r\n",
        "        train_loss, train_metric = loss_epoch(model, loss_func, train_dl, sanity_check, opt)\r\n",
        "\r\n",
        "        # collect loss and metric for the training dataset\r\n",
        "        loss_history['train'].append(train_loss)\r\n",
        "        metric_history['train'].append(train_metric)\r\n",
        "\r\n",
        "        # evaluate model on validation dataset\r\n",
        "        model.eval()\r\n",
        "        with torch.no_grad():\r\n",
        "            val_loss, val_metric = loss_epoch(model, loss_func, val_dl, sanity_check)\r\n",
        "        \r\n",
        "        # store the best model\r\n",
        "        if val_loss < best_loss:\r\n",
        "            best_loss = val_loss\r\n",
        "            best_model_wts = copy.deepcopy(model.state_dict())\r\n",
        "            # store weights into a local file\r\n",
        "            torch.save(model.state_dict(), path2weights)\r\n",
        "            print('Copied best model weights')\r\n",
        "\r\n",
        "        # collect loss and metric for validation dataset\r\n",
        "        loss_history[\"val\"].append(val_loss)\r\n",
        "        metric_history[\"val\"].append(val_metric)\r\n",
        "\r\n",
        "        # update the learning rate\r\n",
        "        lr_scheduler.step()\r\n",
        "        if current_lr != get_lr(opt):\r\n",
        "            print('Loading best model weights!')\r\n",
        "            model.load_state_dict(best_model_wts)\r\n",
        "\r\n",
        "        # print the loss and accuracy values and return the trained model\r\n",
        "        print('train loss: %.6f, dev loss: %.6f, accuracy: %.2f, time: %.4f s' %(train_loss, val_loss, 100*val_metric, time.time()-start_time))\r\n",
        "        print('-'*10)\r\n",
        "\r\n",
        "    # load best model weights\r\n",
        "    model.load_state_dict(best_model_wts)\r\n",
        "    return model, loss_history, metric_history"
      ],
      "execution_count": null,
      "outputs": []
    },
    {
      "cell_type": "code",
      "metadata": {
        "id": "VudDRaSo73Ok"
      },
      "source": [
        "# define the training parameters\r\n",
        "params_train = {\r\n",
        "    'num_epochs':3,\r\n",
        "    'optimizer':opt,\r\n",
        "    'loss_func':loss_func,\r\n",
        "    'train_dl':train_dl,\r\n",
        "    'val_dl':val_dl,\r\n",
        "    'sanity_check':False,\r\n",
        "    'lr_scheduler':lr_scheduler,\r\n",
        "    'path2weights':'./models/weights.pt',\r\n",
        "}\r\n",
        "\r\n",
        "# check the directory to save weights.pt\r\n",
        "def createFolder(directory):\r\n",
        "    try:\r\n",
        "        if not os.path.exists(directory):\r\n",
        "            os.makedirs(directory)\r\n",
        "    except OSerror:\r\n",
        "        print('Error')\r\n",
        "createFolder('./models')"
      ],
      "execution_count": null,
      "outputs": []
    },
    {
      "cell_type": "code",
      "metadata": {
        "colab": {
          "base_uri": "https://localhost:8080/"
        },
        "id": "WpJYt1z8-5qx",
        "outputId": "1002bef4-2750-4796-f131-ff089a15009e"
      },
      "source": [
        "# train model\r\n",
        "model, loss_hist, metric_hist = train_val(model, params_train)"
      ],
      "execution_count": null,
      "outputs": [
        {
          "output_type": "stream",
          "text": [
            "Epoch 0/2, current lr=0.01\n",
            "Copied best model weights\n",
            "train loss: 242.299481, dev loss: 2.303292, accuracy: 10.00, time: 46.5259 s\n",
            "----------\n",
            "Epoch 1/2, current lr=0.01\n",
            "train loss: 2.304301, dev loss: 2.303296, accuracy: 10.00, time: 46.5343 s\n",
            "----------\n",
            "Epoch 2/2, current lr=0.01\n",
            "Copied best model weights\n",
            "train loss: 2.304769, dev loss: 2.302848, accuracy: 10.00, time: 47.3074 s\n",
            "----------\n"
          ],
          "name": "stdout"
        }
      ]
    },
    {
      "cell_type": "code",
      "metadata": {
        "colab": {
          "base_uri": "https://localhost:8080/",
          "height": 573
        },
        "id": "H7Symikd_BJH",
        "outputId": "07de04b5-31d2-4860-df4f-96fa1fa0e873"
      },
      "source": [
        "\r\n",
        "# Train-Validation Progress\r\n",
        "num_epochs=params_train[\"num_epochs\"]\r\n",
        "\r\n",
        "# plot loss progress\r\n",
        "plt.title(\"Train-Val Loss\")\r\n",
        "plt.plot(range(1,num_epochs+1),loss_hist[\"train\"],label=\"train\")\r\n",
        "plt.plot(range(1,num_epochs+1),loss_hist[\"val\"],label=\"val\")\r\n",
        "plt.ylabel(\"Loss\")\r\n",
        "plt.xlabel(\"Training Epochs\")\r\n",
        "plt.legend()\r\n",
        "plt.show()\r\n",
        "\r\n",
        "# plot accuracy progress\r\n",
        "plt.title(\"Train-Val Accuracy\")\r\n",
        "plt.plot(range(1,num_epochs+1),metric_hist[\"train\"],label=\"train\")\r\n",
        "plt.plot(range(1,num_epochs+1),metric_hist[\"val\"],label=\"val\")\r\n",
        "plt.ylabel(\"Accuracy\")\r\n",
        "plt.xlabel(\"Training Epochs\")\r\n",
        "plt.legend()\r\n",
        "plt.show()"
      ],
      "execution_count": null,
      "outputs": [
        {
          "output_type": "display_data",
          "data": {
            "image/png": "[encoded data removed]",
            "text/plain": [
              "<Figure size 432x288 with 1 Axes>"
            ]
          },
          "metadata": {
            "tags": [],
            "needs_background": "light"
          }
        },
        {
          "output_type": "display_data",
          "data": {
            "image/png": "[encoded data removed]",
            "text/plain": [
              "<Figure size 432x288 with 1 Axes>"
            ]
          },
          "metadata": {
            "tags": [],
            "needs_background": "light"
          }
        }
      ]
    },
    {
      "cell_type": "code",
      "metadata": {
        "id": "9RaTWxHPUCFM"
      },
      "source": [
        ""
      ],
      "execution_count": null,
      "outputs": []
    }
  ]
}