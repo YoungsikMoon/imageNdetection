{
 "cells": [
  {
   "cell_type": "markdown",
   "id": "80f63017-31cf-402e-974d-1d96c6dad338",
   "metadata": {},
   "source": [
    "# 논문 정보"
   ]
  },
  {
   "attachments": {},
   "cell_type": "markdown",
   "id": "d77bfc16-a0f4-43a7-b756-10424f216b30",
   "metadata": {},
   "source": [
    "레퍼런스 사이트\n",
    "- https://roytravel.tistory.com/336\n",
    "- https://ingu627.github.io/code/alexnet_pytorch/\n",
    "- https://github.com/JJuOn/pytorch-implementation/blob/main/2.AlexNet.ipynb\n",
    "- https://github.com/Seonghoon-Yu/AI_Paper_Review/blob/master/Classification/AlexNet(2012).ipynb\n",
    "- https://deep-learning-study.tistory.com/518"
   ]
  },
  {
   "cell_type": "markdown",
   "id": "e1374236-490a-4c10-9ddd-5e322bc45b52",
   "metadata": {},
   "source": [
    "아키텍처 2가지 오탈자가 있다.\n",
    "인풋 데이터 사이즈는 224x224가 아니고 227x 227\n",
    "두번째 컨벌루션레이어의 커널 사이즈는 3x3이 아니라 5x5 이다."
   ]
  },
  {
   "cell_type": "markdown",
   "id": "23c48e07-8f84-46a4-a8c6-264dc89f79c5",
   "metadata": {},
   "source": [
    "전체 아키텍처는 top / bottom 두 그룹으로 나뉘는데  GPU 2개를 병렬로 사용한 것이다."
   ]
  },
  {
   "cell_type": "markdown",
   "id": "7ba24e5b-8b92-4c71-9293-21e026dfdf94",
   "metadata": {},
   "source": [
    "컨벌루션레이어 5개, 풀리커넥티드 레이어 3개 사용.\n",
    "오버핏 방지를 위해 풀리커넥티드 레이어에 1,2번째에 드랍아웃 0.5레이트 적용 "
   ]
  },
  {
   "cell_type": "markdown",
   "id": "0046358a-1ca4-440c-a67c-87f9fd0b74a7",
   "metadata": {},
   "source": [
    "모델 일반화를 위해 로컬 리스폰즈 노말리제이션 레이어는 컨벌루션 2,4,5층에 적용."
   ]
  },
  {
   "cell_type": "markdown",
   "id": "d7fd0d7e-b05b-44c6-a626-04429eaac081",
   "metadata": {},
   "source": [
    "모든 층의 액티베이션 펑션으론 렐루 사용.\n",
    "기울기소실 문제 해결하고, tanH 보다 에폭당 학습률이 좋은것을 확인."
   ]
  },
  {
   "cell_type": "markdown",
   "id": "07b673e1-62be-4e79-b5a5-43d5e001ea3e",
   "metadata": {},
   "source": [
    "하이퍼 파라미터\n",
    "\n",
    "optimizer: SGD\n",
    "momentum: 0.9\n",
    "weight decay: 5e-4\n",
    "batch size: 128\n",
    "learning rate: 0.01\n",
    "adjust learning rate: validation error가 현재 lr로 더 이상 개선 안되면 lr을 10으로 나눠줌. 0.01을 lr 초기 값으로 총 3번 줄어듦\n",
    "epoch: 90\n",
    "그리고 별도로 레이어에 가중치 초기화를 진행 해줌\n",
    "\n",
    "편차를 0.01로 하는 zero-mean 가우시안 정규 분포를 모든 레이어의 weight를 초기화\n",
    "neuron bias: 2, 4, 5번째 convolution 레이어와 fully-connected 레이어에 상수 1로 적용하고 이외 레이어는 0을 적용."
   ]
  },
  {
   "cell_type": "markdown",
   "id": "62bf894c-84ca-4808-9305-87415dd07f54",
   "metadata": {},
   "source": [
    "이미지 전처리\n",
    "\n",
    "고화질 이미지를 256x256 사이즈로 다운 샘플링후 이미지의 center에서 cropped out\n",
    "각 픽셀에서 training set에 대한 평균 값을 빼줌"
   ]
  },
  {
   "cell_type": "markdown",
   "id": "4a349515-cc4f-42cb-818a-7b9b20c0f3e5",
   "metadata": {},
   "source": [
    "1층\n",
    "\n",
    "conv\n",
    "input: 227x227x3\n",
    "output: 55x55x96\n",
    "96 kernels of size 11x11x3, stride=4, padding=0\n",
    "\n",
    "maxpooling\n",
    "input: 55x55x96\n",
    "output: 27x27x96\n",
    "3x3 kernel, stride=2\n",
    "\n",
    "normalization\n",
    "input: 27x27x96\n",
    "output: 27x27x96"
   ]
  },
  {
   "cell_type": "markdown",
   "id": "38a82b47-f8d5-4325-9b00-f371f4434691",
   "metadata": {},
   "source": [
    "2층\n",
    "\n",
    "conv\n",
    "input: 27x27x96\n",
    "output: 13x13x256\n",
    "256 kernels of size 5x5, stride=1, padding=2\n",
    "\n",
    "maxpooling\n",
    "input: 27x27x256\n",
    "output: 13x13x256\n",
    "3x3 kernel, stride=2\n",
    "\n",
    "normalization\n",
    "input: 13x13x256\n",
    "output: 13x13x256"
   ]
  },
  {
   "cell_type": "markdown",
   "id": "f7afd7d3-e465-4f65-97ca-2ee9c5c2034b",
   "metadata": {},
   "source": [
    "3층\n",
    "\n",
    "conv\n",
    "input: 13x13x256\n",
    "output: 13x13x384\n",
    "384 kernels of size 3x3, stride=1, padding=1"
   ]
  },
  {
   "cell_type": "markdown",
   "id": "32fb34aa-cbf2-4837-a286-fd9752b0d839",
   "metadata": {},
   "source": [
    "4층\n",
    "\n",
    "conv\n",
    "input: 13x13x384\n",
    "output: 13x13x256\n",
    "384 kernels of size 3xq3, stride=1, padding=1"
   ]
  },
  {
   "cell_type": "markdown",
   "id": "5965f541-101e-4096-9414-fdb8c5728bc1",
   "metadata": {},
   "source": [
    "5층\n",
    "\n",
    "conv\n",
    "input: 13x13x384\n",
    "output: 13x13x256\n",
    "256 kernels of size 3x3, stride=1, padding=1\n",
    "\n",
    "maxpooling\n",
    "input: 55x55x96\n",
    "output: 27x27x96\n",
    "3x3 kernel, stride=2"
   ]
  },
  {
   "cell_type": "markdown",
   "id": "9878b889-8240-4bbb-962f-9622a8ef0dab",
   "metadata": {},
   "source": [
    "6층\n",
    "\n",
    "fully connected\n",
    "input: 6x6x256\n",
    "output: 4096\n",
    "parameter: 4096 neurons"
   ]
  },
  {
   "cell_type": "markdown",
   "id": "3e8eaf54-dbe3-4bf0-98ff-f20c89f1762a",
   "metadata": {},
   "source": [
    "7층\n",
    "\n",
    "fc\n",
    "input: 4096\n",
    "output: 4096"
   ]
  },
  {
   "cell_type": "markdown",
   "id": "69b8b40b-56da-4d84-bc07-c322a86354d6",
   "metadata": {},
   "source": [
    "8층\n",
    "\n",
    "fc\n",
    "input: 4096\n",
    "output: 1000 softmax classes"
   ]
  },
  {
   "cell_type": "markdown",
   "id": "5908c36b-3c61-432b-a41d-7581141c8d4d",
   "metadata": {},
   "source": [
    "이를 바탕으로 전체 코드를 크게 나누어 보자면 5가지 정도가 될 수 있다.\n",
    "1. 레이어 구성\n",
    "2. 가중치 초기화 \n",
    "3. 하이퍼파라미터 설정 \n",
    "4. 이미지 전처리\n",
    "5. 학습 로직 작성\n",
    "참고로 이미지 전처리에 사용하는 transform 메서드에서 사용되는 상수 값은 별도로 논문에 기재되어 있지 않기에 pytorch 공식 documentation에서 기본 값을 가져와서 사용했다."
   ]
  },
  {
   "cell_type": "markdown",
   "id": "1a5e18fd-0924-4d16-a3f4-4c83a195bd36",
   "metadata": {},
   "source": [
    "구현을 위한 데이터셋으론 토치비전에서 제공하는 STL10 데이터셋 사용.\n",
    "해당 데이터셋은 train, test 셋만 있어서 validation 셋 따로 만들어줄 필요 있음."
   ]
  },
  {
   "cell_type": "markdown",
   "id": "6007fb43-a3ed-43a4-ae3b-cafbc0bbb26b",
   "metadata": {},
   "source": [
    "# 데이터셋 불러오고 transformation 적용"
   ]
  },
  {
   "cell_type": "code",
   "execution_count": 1,
   "id": "0c2e2a85-5b99-4e49-b0d7-b52aba3d38d5",
   "metadata": {},
   "outputs": [],
   "source": [
    "import os  # 운영 체제와 상호 작용하기 위한 기능을 제공하는 라이브러리\n",
    "import torchvision.datasets as datasets  # 이미지 데이터셋을 다루기 위한 라이브러리\n",
    "import torchvision.transforms as transforms  # 이미지 변환을 위한 라이브러리"
   ]
  },
  {
   "cell_type": "code",
   "execution_count": 40,
   "id": "7446db8f-2885-4c03-bea8-086f24005b45",
   "metadata": {},
   "outputs": [],
   "source": [
    "path2data = '/data'\n",
    "\n",
    "if not os.path.exists(path2data):\n",
    "    os.mkdir(path2data)\n",
    "\n",
    "transformer = transforms.Compose([\n",
    "    transforms.Resize(227),\n",
    "    transforms.ToTensor()]) #이미지를 텐서형태로 하기 위함."
   ]
  },
  {
   "cell_type": "code",
   "execution_count": 41,
   "id": "7dffc54b-4c87-4eec-9317-3a1c55f7c062",
   "metadata": {},
   "outputs": [
    {
     "name": "stdout",
     "output_type": "stream",
     "text": [
      "Files already downloaded and verified\n",
      "(5000, 3, 96, 96)\n"
     ]
    }
   ],
   "source": [
    "training_data = datasets.STL10(\n",
    "    path2data,\n",
    "    split='train',\n",
    "    download=True,\n",
    "    transform=transformer)\n",
    "print(train_ds.data.shape)"
   ]
  },
  {
   "cell_type": "code",
   "execution_count": 42,
   "id": "74c77570-ebc3-4176-82ed-d79659804504",
   "metadata": {},
   "outputs": [
    {
     "name": "stdout",
     "output_type": "stream",
     "text": [
      "Files already downloaded and verified\n",
      "(8000, 3, 96, 96)\n"
     ]
    }
   ],
   "source": [
    "test_data = datasets.STL10(\n",
    "    path2data,\n",
    "    split='test',\n",
    "    download=True,\n",
    "    transform=data_transformer)\n",
    "print(test_data.data.shape)"
   ]
  },
  {
   "cell_type": "markdown",
   "id": "efb738b0-7b3d-4b8d-8a5a-66b63a8b5589",
   "metadata": {},
   "source": [
    "# 데이터 정규화를 위한 평균값, 표준편차값 계산."
   ]
  },
  {
   "cell_type": "code",
   "execution_count": 5,
   "id": "010fb594-01a5-4e0c-9e36-cb3f0394811e",
   "metadata": {},
   "outputs": [],
   "source": [
    "import numpy as np"
   ]
  },
  {
   "cell_type": "code",
   "execution_count": 6,
   "id": "159609df-400a-49df-94bf-6eed01fb483f",
   "metadata": {},
   "outputs": [],
   "source": [
    "meanRGB = [np.mean(x.numpy(), axis=(1,2)) for x, _ in train_ds]\n",
    "stdRGB = [np.std(x.numpy(), axis=(1,2)) for x, _ in train_ds]\n",
    "# axis0->높이\n",
    "# axis1->행\n",
    "# axis2->열"
   ]
  },
  {
   "cell_type": "code",
   "execution_count": 7,
   "id": "7aa3fc38-d9b1-4e1f-8803-049f29aeaa26",
   "metadata": {},
   "outputs": [],
   "source": [
    "meanR = np.mean([m[0] for m in meanRGB])\n",
    "meanG = np.mean([m[1] for m in meanRGB])\n",
    "meanB = np.mean([m[2] for m in meanRGB])"
   ]
  },
  {
   "cell_type": "code",
   "execution_count": 8,
   "id": "14d20efa-8137-4814-be0e-9f8b35ea04a0",
   "metadata": {},
   "outputs": [
    {
     "name": "stdout",
     "output_type": "stream",
     "text": [
      "0.4467106 0.43980986 0.40664646\n"
     ]
    }
   ],
   "source": [
    "print(meanR, meanG, meanB)"
   ]
  },
  {
   "cell_type": "code",
   "execution_count": 9,
   "id": "896c347a-e815-4237-be3f-7de21a246090",
   "metadata": {},
   "outputs": [],
   "source": [
    "stdR = np.mean([s[0] for s in stdRGB])\n",
    "stdG = np.mean([s[1] for s in stdRGB])\n",
    "stdB = np.mean([s[2] for s in stdRGB])"
   ]
  },
  {
   "cell_type": "code",
   "execution_count": 10,
   "id": "03b81366-171c-47ba-af80-2e2e4276ba6a",
   "metadata": {},
   "outputs": [
    {
     "name": "stdout",
     "output_type": "stream",
     "text": [
      "0.22414584 0.22148906 0.22389975\n"
     ]
    }
   ],
   "source": [
    "print(stdR, stdG, stdB)"
   ]
  },
  {
   "cell_type": "markdown",
   "id": "7d80d92b-ebf1-4406-9988-24f0c8afcfa0",
   "metadata": {},
   "source": [
    "# 이미지 트랜스포메이션 정의"
   ]
  },
  {
   "cell_type": "code",
   "execution_count": 11,
   "id": "87693257-d2fb-4cde-8583-6ef421a236ab",
   "metadata": {},
   "outputs": [],
   "source": [
    "train_transformer = transforms.Compose([\n",
    "    transforms.ToTensor(),\n",
    "    transforms.Resize(227),\n",
    "    transforms.RandomHorizontalFlip(),\n",
    "    transforms.Normalize([meanR, meanG, meanB],[stdR, stdG, stdB])\n",
    "])"
   ]
  },
  {
   "cell_type": "code",
   "execution_count": 12,
   "id": "b547df30-9ebd-473c-ad88-f069c1dd665c",
   "metadata": {},
   "outputs": [],
   "source": [
    "test_transformer = transforms.Compose([\n",
    "                transforms.ToTensor(),\n",
    "                transforms.Normalize([meanR, meanG, meanB], [stdR, stdG, stdB]),\n",
    "                transforms.Resize(227)\n",
    "])"
   ]
  },
  {
   "cell_type": "code",
   "execution_count": 13,
   "id": "02b6e683-e2af-4b5d-a198-233a12924b67",
   "metadata": {},
   "outputs": [],
   "source": [
    "train_ds.transform = train_transformer\n",
    "test0_ds.transform = test_transformer"
   ]
  },
  {
   "cell_type": "code",
   "execution_count": 14,
   "id": "46dbb1b3-03cf-4381-bb3c-a66fad007b21",
   "metadata": {},
   "outputs": [
    {
     "name": "stdout",
     "output_type": "stream",
     "text": [
      "torch.Size([3, 227, 227])\n"
     ]
    }
   ],
   "source": [
    "img, _ = train_ds[1]\n",
    "print(img.shape)"
   ]
  },
  {
   "cell_type": "markdown",
   "id": "476cbbe2-6284-44ab-9b1f-6daddba7fe8d",
   "metadata": {},
   "source": [
    "# 샘플 이미지 확인"
   ]
  },
  {
   "cell_type": "code",
   "execution_count": 15,
   "id": "01418ddd-b398-4cd5-8d7d-105a56b4a32c",
   "metadata": {},
   "outputs": [],
   "source": [
    "import torch\n",
    "from torchvision import utils\n",
    "import matplotlib.pyplot as plt\n",
    "import numpy as np\n",
    "%matplotlib inline"
   ]
  },
  {
   "cell_type": "code",
   "execution_count": 16,
   "id": "cf571cb4-3be9-478d-b7e4-d83b3baf5327",
   "metadata": {},
   "outputs": [],
   "source": [
    "def show(img, y=None, color=True):\n",
    "    npimg = img.numpy()\n",
    "    npimg_tr = np.transpose(npimg, (1, 2, 0))\n",
    "    plt.imshow(npimg_tr)\n",
    "    if y is not None:\n",
    "        plt.title('labels: ' + str(y))"
   ]
  },
  {
   "cell_type": "code",
   "execution_count": 17,
   "id": "c720ad6e-ac8f-490d-a9c0-3b973f5d93a7",
   "metadata": {},
   "outputs": [
    {
     "data": {
      "text/plain": [
       "<torch._C.Generator at 0x1ccb3965710>"
      ]
     },
     "execution_count": 17,
     "metadata": {},
     "output_type": "execute_result"
    }
   ],
   "source": [
    "np.random.seed(42)\n",
    "torch.manual_seed(42)"
   ]
  },
  {
   "cell_type": "code",
   "execution_count": 18,
   "id": "fc4145f1-71e6-494b-8edc-26c44e9ec61c",
   "metadata": {},
   "outputs": [
    {
     "name": "stdout",
     "output_type": "stream",
     "text": [
      "860\n",
      "images indices:  860\n"
     ]
    },
    {
     "name": "stderr",
     "output_type": "stream",
     "text": [
      "C:\\Users\\Administrator\\AppData\\Local\\Temp\\ipykernel_10524\\1391974320.py:1: DeprecationWarning: Conversion of an array with ndim > 0 to a scalar is deprecated, and will error in future. Ensure you extract a single element from your array before performing this operation. (Deprecated NumPy 1.25.)\n",
      "  rnd_inds = int(np.random.randint(0, len(train_ds), 1))\n"
     ]
    }
   ],
   "source": [
    "rnd_inds = int(np.random.randint(0, len(train_ds), 1))\n",
    "print(rnd_inds)\n",
    "img, label = train_ds[rnd_inds]\n",
    "print('images indices: ', rnd_inds)"
   ]
  },
  {
   "cell_type": "code",
   "execution_count": 19,
   "id": "0bd98b11-9ab5-4a8a-bb98-ad017c1c2c36",
   "metadata": {},
   "outputs": [
    {
     "name": "stderr",
     "output_type": "stream",
     "text": [
      "Clipping input data to the valid range for imshow with RGB data ([0..1] for floats or [0..255] for integers). Got range [-1.7636112..2.625697].\n"
     ]
    },
    {
     "data": {
      "image/png": "[encoded data removed]",
      "text/plain": [
       "<Figure size 1000x1000 with 1 Axes>"
      ]
     },
     "metadata": {},
     "output_type": "display_data"
    }
   ],
   "source": [
    "plt.figure(figsize=(10, 10))\n",
    "show(img)"
   ]
  },
  {
   "cell_type": "code",
   "execution_count": 20,
   "id": "4542ef11-d4e8-404d-bd0a-c70fca04a63f",
   "metadata": {},
   "outputs": [
    {
     "name": "stdout",
     "output_type": "stream",
     "text": [
      "Counter({1: 500, 5: 500, 6: 500, 3: 500, 9: 500, 7: 500, 4: 500, 8: 500, 0: 500, 2: 500})\n"
     ]
    }
   ],
   "source": [
    "# 이미지 카테고리 계산\n",
    "import collections\n",
    "y_train = [y for _, y in train_ds]\n",
    "counter_train = collections.Counter(y_train)\n",
    "print(counter_train)\n",
    "# 0~9까지 각 500개"
   ]
  },
  {
   "cell_type": "code",
   "execution_count": 21,
   "id": "78720859-5e18-48ea-a001-186e586fd30c",
   "metadata": {},
   "outputs": [
    {
     "name": "stdout",
     "output_type": "stream",
     "text": [
      "test : 6400 val : 1600\n"
     ]
    }
   ],
   "source": [
    "# STL10 데이터에는 벨리데이션이 없어서 따로 만들어주기\n",
    "# StratifiedShuffleSplit 함수는 각 레이블에서 동일한 비율로 이미지 인덱스를 추출.\n",
    "# Subset 함수를 활용하여 추출한 인덱스로 데이터셋을 분할해주기\n",
    "from sklearn.model_selection import StratifiedShuffleSplit\n",
    "sss = StratifiedShuffleSplit(n_splits=1, test_size=0.2, random_state=0)\n",
    "indices = list(range(len(test0_ds)))\n",
    "y_test0 = [y for _,y in test0_ds]\n",
    "for test_index, val_index in sss.split(indices, y_test0):\n",
    "    print('test :', len(test_index) , 'val :', len(val_index))"
   ]
  },
  {
   "cell_type": "code",
   "execution_count": 22,
   "id": "599bd104-be9f-4b02-8691-ffc605568db3",
   "metadata": {},
   "outputs": [],
   "source": [
    "# Subset 함수로 test dataset과 val dataset을 나눕니다.\n",
    "# test0 dataset이 업데이트되면 test dataset과 val dataset 모두 업데이트 됩니다.\n",
    "from torch.utils.data import Subset\n",
    "val_ds = Subset(test0_ds, val_index)\n",
    "test_ds = Subset(test0_ds, test_index)"
   ]
  },
  {
   "cell_type": "code",
   "execution_count": 23,
   "id": "d553cef8-0c30-4dc8-bdff-a70b4d006edc",
   "metadata": {},
   "outputs": [
    {
     "name": "stdout",
     "output_type": "stream",
     "text": [
      "Counter({6: 640, 0: 640, 4: 640, 5: 640, 9: 640, 2: 640, 3: 640, 1: 640, 7: 640, 8: 640})\n",
      "Counter({2: 160, 8: 160, 3: 160, 6: 160, 4: 160, 1: 160, 5: 160, 9: 160, 0: 160, 7: 160})\n"
     ]
    }
   ],
   "source": [
    "import collections\n",
    "import numpy as np\n",
    "\n",
    "y_test = [y for _, y in test_ds]\n",
    "y_val = [y for _, y in val_ds]\n",
    "\n",
    "counter_test = collections.Counter(y_test)\n",
    "counter_val = collections.Counter(y_val)\n",
    "print(counter_test)\n",
    "print(counter_val)"
   ]
  },
  {
   "cell_type": "markdown",
   "id": "ce0f1687-b8f8-4547-8fe3-fad31887bc00",
   "metadata": {},
   "source": [
    "# DataLoader 생성"
   ]
  },
  {
   "cell_type": "code",
   "execution_count": 24,
   "id": "e00d0c5a-d1fa-48da-b6f0-361a47c30a44",
   "metadata": {},
   "outputs": [
    {
     "name": "stdout",
     "output_type": "stream",
     "text": [
      "torch.Size([32, 3, 227, 227])\n",
      "torch.Size([32])\n",
      "torch.Size([32, 3, 227, 227])\n",
      "torch.Size([32])\n"
     ]
    }
   ],
   "source": [
    "from torch.utils.data import DataLoader\n",
    "\n",
    "train_dl = DataLoader(train_ds, batch_size=32, shuffle=True)\n",
    "val_dl = DataLoader(val_ds, batch_size=32, shuffle=False)\n",
    "\n",
    "\n",
    "for x,y in train_dl:\n",
    "    print(x.shape)\n",
    "    print(y.shape)\n",
    "    break\n",
    "\n",
    "for x,y in val_dl:\n",
    "    print(x.shape)\n",
    "    print(y.shape)\n",
    "    break"
   ]
  },
  {
   "cell_type": "markdown",
   "id": "d31dd7aa-af04-4bdd-973a-cbf6d64052a2",
   "metadata": {},
   "source": [
    "# 모델 구축"
   ]
  },
  {
   "cell_type": "code",
   "execution_count": 25,
   "id": "7eeed5d6-20d7-46e7-abc2-54c6e2ea641f",
   "metadata": {},
   "outputs": [
    {
     "name": "stdout",
     "output_type": "stream",
     "text": [
      "2.3.0+cpu\n",
      "cpu\n"
     ]
    }
   ],
   "source": [
    "# 에폭 배치사이즈 디바이스 정의\n",
    "epochs = 10 # 훈련 반복수\n",
    "batch_size = 512 # 배치 크기\n",
    "\n",
    "device = (\"cuda\" if torch.cuda.is_available() else \"cpu\") # device 정의\n",
    "class_names = ['airplane', 'bird', 'car', 'cat', 'deer',\n",
    "               'dog', 'horse', 'monkey', 'ship', 'truck'] # 총 10개의 클래스\n",
    "\n",
    "print(torch.__version__)\n",
    "print(device)\n"
   ]
  },
  {
   "cell_type": "code",
   "execution_count": 26,
   "id": "1265d90e-b85c-44ae-82cf-19df9bfd96fc",
   "metadata": {},
   "outputs": [],
   "source": [
    "import torch.nn as nn  # 신경망 모델을 정의하는 데 사용되는 모듈과 클래스를 제공하는 라이브러리\n",
    "import torch.nn.functional as F  # 신경망의 함수형 인터페이스를 제공하는 라이브러리\n",
    "\n",
    "class AlexNet(nn.Module):\n",
    "    def __init__(self, num_classes=10):\n",
    "        super(AlexNet, self).__init__()\n",
    "        self.net = nn.Sequential( # conv layer\n",
    "            nn.Conv2d(kernel_size=11, in_channels=3, out_channels=96, stride=4, padding=0),\n",
    "            nn.ReLU(inplace=True),\n",
    "            nn.LocalResponseNorm(size=5, alpha=0.0001, beta=0.75, k=2),\n",
    "            nn.MaxPool2d(kernel_size=3, stride=2),\n",
    "\n",
    "            nn.Conv2d(kernel_size=5, in_channels=96, out_channels=256, stride=1, padding=2),\n",
    "            nn.ReLU(),\n",
    "            nn.LocalResponseNorm(size=5, alpha=0.0001, beta=0.75, k=2),\n",
    "            nn.MaxPool2d(kernel_size=3, stride=1),\n",
    "\n",
    "            nn.Conv2d(kernel_size=3, in_channels=256, out_channels=384, stride=1, padding=1),\n",
    "            nn.ReLU(),\n",
    "            \n",
    "            nn.Conv2d(kernel_size=3, in_channels=384, out_channels=384, stride=1, padding=1),\n",
    "            nn.ReLU(),\n",
    "\n",
    "            nn.Conv2d(kernel_size=3, in_channels=384, out_channels=256, stride=1, padding=1),\n",
    "            nn.ReLU(),\n",
    "            nn.MaxPool2d(kernel_size=3, stride=1)\n",
    "        )\n",
    "        \n",
    "        self.classifier = nn.Sequential( # fc layer\n",
    "            nn.Dropout(p=0.5, inplace=True),\n",
    "            nn.Linear(in_features=(256 * 6 * 6), out_features=4096),\n",
    "            nn.ReLU(),\n",
    "            nn.Dropout(p=0.5, inplace=True),\n",
    "            nn.Linear(in_features=4096, out_features=4096),\n",
    "            nn.ReLU(),\n",
    "            nn.Linear(in_features=4096, out_features=num_classes),\n",
    "        )\n",
    "\n",
    "        self.init_bias()\n",
    "        \n",
    "# AlexNet 논문에 따르면, 2번째, 4번째, 5번째 합성곱 층과 \n",
    "# 모든 완전 연결 층의 바이어스를 1로 초기화했다고 합니다.\n",
    "    def init_bias(self):\n",
    "        for layer in self.net:\n",
    "            if isinstance(layer, nn.Conv2d):\n",
    "                nn.init.normal_(layer.weight, mean=0, std=0.01)\n",
    "                nn.init.constant_(layer.bias, 0)\n",
    "        # original paper = 1 for Conv2d layers 2nd, 4th, and 5th conv layers\n",
    "        nn.init.constant_(self.net[4].bias, 1)\n",
    "        nn.init.constant_(self.net[10].bias, 1)\n",
    "        nn.init.constant_(self.net[12].bias, 1)\n",
    "        \n",
    "    def forward(self, x: torch.Tensor) -> torch.Tensor:\n",
    "        x = self.net(x)\n",
    "        x = x.view(-1, 256 * 6* 6)\n",
    "        x = self.classifier(x)\n",
    "        return x"
   ]
  },
  {
   "cell_type": "code",
   "execution_count": 27,
   "id": "cd0c8714-411d-4d9c-b514-814172a8b30e",
   "metadata": {},
   "outputs": [
    {
     "name": "stdout",
     "output_type": "stream",
     "text": [
      "AlexNet(\n",
      "  (net): Sequential(\n",
      "    (0): Conv2d(3, 96, kernel_size=(11, 11), stride=(4, 4))\n",
      "    (1): ReLU(inplace=True)\n",
      "    (2): LocalResponseNorm(5, alpha=0.0001, beta=0.75, k=2)\n",
      "    (3): MaxPool2d(kernel_size=3, stride=2, padding=0, dilation=1, ceil_mode=False)\n",
      "    (4): Conv2d(96, 256, kernel_size=(5, 5), stride=(1, 1), padding=(2, 2))\n",
      "    (5): ReLU()\n",
      "    (6): LocalResponseNorm(5, alpha=0.0001, beta=0.75, k=2)\n",
      "    (7): MaxPool2d(kernel_size=3, stride=2, padding=0, dilation=1, ceil_mode=False)\n",
      "    (8): Conv2d(256, 384, kernel_size=(3, 3), stride=(1, 1), padding=(1, 1))\n",
      "    (9): ReLU()\n",
      "    (10): Conv2d(384, 384, kernel_size=(3, 3), stride=(1, 1), padding=(1, 1))\n",
      "    (11): ReLU()\n",
      "    (12): Conv2d(384, 256, kernel_size=(3, 3), stride=(1, 1), padding=(1, 1))\n",
      "    (13): ReLU()\n",
      "    (14): MaxPool2d(kernel_size=3, stride=2, padding=0, dilation=1, ceil_mode=False)\n",
      "  )\n",
      "  (classifier): Sequential(\n",
      "    (0): Dropout(p=0.5, inplace=True)\n",
      "    (1): Linear(in_features=9216, out_features=4096, bias=True)\n",
      "    (2): ReLU()\n",
      "    (3): Dropout(p=0.5, inplace=True)\n",
      "    (4): Linear(in_features=4096, out_features=4096, bias=True)\n",
      "    (5): ReLU()\n",
      "    (6): Linear(in_features=4096, out_features=10, bias=True)\n",
      "  )\n",
      ")\n"
     ]
    }
   ],
   "source": [
    "# check the model\n",
    "model = AlexNet().to(device)\n",
    "print(model)"
   ]
  },
  {
   "cell_type": "code",
   "execution_count": 29,
   "id": "6b759539-4531-454e-b668-a41064d34f26",
   "metadata": {},
   "outputs": [
    {
     "name": "stdout",
     "output_type": "stream",
     "text": [
      "----------------------------------------------------------------\n",
      "        Layer (type)               Output Shape         Param #\n",
      "================================================================\n",
      "            Conv2d-1           [-1, 96, 55, 55]          34,944\n",
      "              ReLU-2           [-1, 96, 55, 55]               0\n",
      " LocalResponseNorm-3           [-1, 96, 55, 55]               0\n",
      "         MaxPool2d-4           [-1, 96, 27, 27]               0\n",
      "            Conv2d-5          [-1, 256, 27, 27]         614,656\n",
      "              ReLU-6          [-1, 256, 27, 27]               0\n",
      " LocalResponseNorm-7          [-1, 256, 27, 27]               0\n",
      "         MaxPool2d-8          [-1, 256, 13, 13]               0\n",
      "            Conv2d-9          [-1, 384, 13, 13]         885,120\n",
      "             ReLU-10          [-1, 384, 13, 13]               0\n",
      "           Conv2d-11          [-1, 384, 13, 13]       1,327,488\n",
      "             ReLU-12          [-1, 384, 13, 13]               0\n",
      "           Conv2d-13          [-1, 256, 13, 13]         884,992\n",
      "             ReLU-14          [-1, 256, 13, 13]               0\n",
      "        MaxPool2d-15            [-1, 256, 6, 6]               0\n",
      "          Dropout-16                 [-1, 9216]               0\n",
      "           Linear-17                 [-1, 4096]      37,752,832\n",
      "             ReLU-18                 [-1, 4096]               0\n",
      "          Dropout-19                 [-1, 4096]               0\n",
      "           Linear-20                 [-1, 4096]      16,781,312\n",
      "             ReLU-21                 [-1, 4096]               0\n",
      "           Linear-22                   [-1, 10]          40,970\n",
      "================================================================\n",
      "Total params: 58,322,314\n",
      "Trainable params: 58,322,314\n",
      "Non-trainable params: 0\n",
      "----------------------------------------------------------------\n",
      "Input size (MB): 0.59\n",
      "Forward/backward pass size (MB): 14.72\n",
      "Params size (MB): 222.48\n",
      "Estimated Total Size (MB): 237.79\n",
      "----------------------------------------------------------------\n"
     ]
    }
   ],
   "source": [
    "# get the model summary\n",
    "from torchsummary import summary\n",
    "summary(model, input_size=(3, 227, 227), device=device)"
   ]
  },
  {
   "cell_type": "code",
   "execution_count": 31,
   "id": "485f8082-9122-49dc-969a-c015f19ad67e",
   "metadata": {},
   "outputs": [
    {
     "name": "stdout",
     "output_type": "stream",
     "text": [
      "Parameter containing:\n",
      "tensor([[[[-2.4352e-03,  6.2035e-03, -6.4266e-04,  ..., -1.2443e-02,\n",
      "            9.9962e-03,  9.3936e-03],\n",
      "          [ 9.4660e-03, -1.8899e-04,  1.3443e-02,  ..., -2.8415e-03,\n",
      "           -1.3260e-02, -2.7076e-03],\n",
      "          [-2.6842e-03,  1.9472e-02,  5.8697e-03,  ...,  7.6307e-03,\n",
      "           -1.1026e-02,  1.1588e-02],\n",
      "          ...,\n",
      "          [-6.9773e-03,  1.2548e-02,  1.6715e-02,  ...,  5.9699e-03,\n",
      "            7.9209e-04, -3.4047e-03],\n",
      "          [ 6.5603e-03,  6.6963e-03, -1.7391e-04,  ...,  9.3804e-03,\n",
      "            3.9515e-03, -1.0190e-02],\n",
      "          [ 1.2952e-02, -4.2072e-03,  7.8752e-03,  ...,  8.1956e-03,\n",
      "            9.0110e-03, -2.0635e-03]],\n",
      "\n",
      "         [[-1.4580e-03,  3.2719e-03,  7.1539e-03,  ...,  5.2211e-03,\n",
      "            1.4014e-02,  7.2430e-03],\n",
      "          [-7.8571e-04, -6.3175e-03,  1.2097e-02,  ...,  1.7489e-02,\n",
      "            3.7629e-03,  1.1312e-03],\n",
      "          [-4.3247e-03, -1.3691e-02, -2.1833e-02,  ...,  1.7250e-02,\n",
      "           -8.0092e-03,  9.5663e-03],\n",
      "          ...,\n",
      "          [ 5.0102e-04,  4.0018e-03, -7.8146e-03,  ...,  9.9304e-04,\n",
      "           -7.0148e-03,  2.1008e-02],\n",
      "          [ 4.2661e-03,  1.4837e-02,  5.1003e-03,  ..., -9.7021e-03,\n",
      "            1.7541e-03,  7.7307e-03],\n",
      "          [-9.2984e-04,  1.3729e-02, -5.0328e-03,  ...,  1.0526e-02,\n",
      "           -1.5427e-02,  2.0522e-04]],\n",
      "\n",
      "         [[-1.5180e-03,  1.0281e-02,  7.0567e-04,  ...,  1.2004e-02,\n",
      "           -9.8484e-03,  8.7328e-03],\n",
      "          [ 5.3966e-03,  9.9631e-03,  5.2088e-03,  ...,  5.1627e-03,\n",
      "           -3.0380e-03,  4.7186e-04],\n",
      "          [-7.2011e-03, -3.8163e-03,  9.4437e-04,  ..., -7.6416e-03,\n",
      "           -1.1723e-02, -9.7571e-03],\n",
      "          ...,\n",
      "          [ 1.6034e-03, -1.2036e-02, -1.4346e-02,  ...,  1.6627e-02,\n",
      "           -1.3970e-02, -1.7834e-03],\n",
      "          [ 1.8414e-03,  2.4486e-03, -8.3256e-03,  ...,  8.4100e-04,\n",
      "           -5.1087e-03, -1.3180e-03],\n",
      "          [-4.7483e-03,  5.9400e-03,  9.5834e-03,  ...,  4.7659e-03,\n",
      "           -2.8614e-03, -1.0489e-02]]],\n",
      "\n",
      "\n",
      "        [[[ 7.7171e-04, -4.0175e-03, -9.4207e-03,  ...,  8.8704e-03,\n",
      "            1.0146e-02,  1.1104e-02],\n",
      "          [-1.8812e-02, -1.0053e-02, -1.6418e-03,  ...,  1.2522e-03,\n",
      "           -5.1450e-03,  1.3131e-02],\n",
      "          [-1.9824e-02,  2.2999e-02,  3.3399e-03,  ..., -9.1866e-03,\n",
      "            1.9690e-05,  1.0879e-02],\n",
      "          ...,\n",
      "          [ 6.0264e-03,  1.1433e-02, -7.4866e-03,  ..., -8.0888e-03,\n",
      "           -7.0626e-03, -7.7577e-03],\n",
      "          [-3.3068e-03,  1.8262e-02, -3.5857e-03,  ...,  2.1652e-03,\n",
      "           -1.6112e-03, -3.0781e-03],\n",
      "          [ 5.7628e-03, -1.8161e-02, -4.2961e-04,  ..., -8.0226e-03,\n",
      "           -4.2158e-03, -4.5553e-03]],\n",
      "\n",
      "         [[-6.5888e-03,  1.1617e-02, -3.4056e-03,  ..., -4.0366e-03,\n",
      "            7.7379e-03, -7.8797e-03],\n",
      "          [-3.7880e-03,  1.0369e-02,  3.2994e-03,  ...,  7.5531e-03,\n",
      "            1.1170e-02,  2.3703e-02],\n",
      "          [ 1.9820e-02, -1.8032e-02,  3.9513e-03,  ..., -6.3195e-04,\n",
      "           -1.6965e-03, -2.8439e-03],\n",
      "          ...,\n",
      "          [-4.5424e-03, -4.7237e-03, -8.6960e-03,  ...,  2.2904e-03,\n",
      "            1.0937e-02,  1.5968e-03],\n",
      "          [-1.4928e-02,  2.0533e-02, -1.3242e-02,  ..., -4.6595e-03,\n",
      "            1.4437e-02,  1.3522e-03],\n",
      "          [ 3.8871e-03,  8.3058e-03, -1.3952e-03,  ...,  1.8619e-02,\n",
      "           -9.4343e-03, -2.1505e-03]],\n",
      "\n",
      "         [[ 8.7744e-05,  4.4328e-03,  1.3814e-02,  ...,  1.2543e-02,\n",
      "            5.7691e-03, -2.8772e-03],\n",
      "          [ 1.3843e-02, -6.9891e-03,  1.1125e-02,  ..., -1.4882e-02,\n",
      "            1.3905e-02, -2.2163e-02],\n",
      "          [-3.0203e-03, -3.1791e-03, -6.3412e-03,  ..., -5.1526e-03,\n",
      "           -4.3931e-03, -5.1687e-03],\n",
      "          ...,\n",
      "          [ 2.1701e-03, -2.6191e-03, -1.6720e-02,  ..., -1.2471e-02,\n",
      "           -6.0812e-03, -7.2217e-03],\n",
      "          [-8.6733e-03,  1.3752e-02, -5.1836e-03,  ..., -1.5976e-02,\n",
      "           -8.3026e-03, -2.0561e-02],\n",
      "          [ 8.4235e-03, -1.0107e-02,  5.6277e-03,  ..., -1.8274e-02,\n",
      "           -8.8228e-03, -2.5440e-02]]],\n",
      "\n",
      "\n",
      "        [[[ 2.1736e-03,  8.5547e-04, -1.7190e-02,  ...,  1.9348e-02,\n",
      "            1.5795e-02,  8.8705e-03],\n",
      "          [ 7.5948e-03,  1.7700e-02, -5.4450e-03,  ...,  1.5015e-02,\n",
      "           -3.7429e-03, -1.7154e-02],\n",
      "          [-3.8906e-03,  6.8573e-03, -5.7774e-03,  ..., -8.0960e-03,\n",
      "           -7.3749e-03,  6.5458e-03],\n",
      "          ...,\n",
      "          [-1.9502e-03, -1.3177e-03,  2.3871e-02,  ..., -1.3731e-03,\n",
      "           -2.2528e-03, -6.8512e-03],\n",
      "          [ 2.0747e-02, -1.5459e-02,  2.9900e-03,  ..., -1.2806e-02,\n",
      "            1.1886e-02,  3.9932e-03],\n",
      "          [ 1.7424e-03, -1.6665e-02, -2.2570e-02,  ...,  1.4307e-02,\n",
      "            3.9079e-03,  3.0740e-04]],\n",
      "\n",
      "         [[ 2.8094e-03, -1.6682e-02, -3.8125e-03,  ..., -8.6289e-04,\n",
      "           -3.4332e-03, -3.5356e-03],\n",
      "          [-2.3279e-02, -1.0809e-02,  3.9441e-03,  ...,  1.3514e-02,\n",
      "           -8.9294e-03,  4.0585e-03],\n",
      "          [ 8.1709e-03,  5.5744e-03, -1.5961e-03,  ...,  8.6284e-03,\n",
      "           -2.0922e-02, -9.4398e-03],\n",
      "          ...,\n",
      "          [ 1.0957e-02,  7.1242e-03, -1.1358e-02,  ...,  7.8674e-03,\n",
      "            8.0269e-03,  2.6484e-04],\n",
      "          [ 6.2085e-03,  5.6806e-03, -2.8975e-04,  ...,  9.4987e-03,\n",
      "           -1.3209e-02, -2.4009e-03],\n",
      "          [ 4.4791e-03,  1.7139e-02,  4.7176e-03,  ...,  3.8142e-03,\n",
      "            1.1289e-02,  1.1083e-03]],\n",
      "\n",
      "         [[ 1.7378e-03,  7.8254e-03, -1.7660e-03,  ..., -1.2500e-02,\n",
      "            6.4386e-04,  1.5845e-02],\n",
      "          [ 6.6293e-03, -5.4437e-03,  6.9045e-03,  ...,  1.5499e-03,\n",
      "            1.3472e-02, -8.4669e-03],\n",
      "          [-4.7725e-03, -9.7310e-03,  3.5204e-03,  ...,  2.6696e-03,\n",
      "           -1.2537e-02,  2.3579e-03],\n",
      "          ...,\n",
      "          [ 3.5110e-03, -6.5066e-03, -1.6261e-02,  ..., -2.2663e-03,\n",
      "           -3.9490e-03, -8.1468e-03],\n",
      "          [-5.2480e-03, -4.2399e-03, -5.9806e-03,  ...,  1.3081e-02,\n",
      "           -9.9016e-03, -1.3722e-03],\n",
      "          [-8.9870e-03, -8.7738e-04,  3.1080e-03,  ..., -6.2186e-03,\n",
      "           -1.0988e-02,  8.0112e-03]]],\n",
      "\n",
      "\n",
      "        ...,\n",
      "\n",
      "\n",
      "        [[[-6.2335e-03,  6.6554e-03,  7.9256e-03,  ...,  1.5733e-02,\n",
      "            2.7700e-03, -2.9784e-03],\n",
      "          [-5.9482e-03,  2.7595e-03,  8.0041e-03,  ...,  1.3393e-02,\n",
      "           -7.2319e-03, -3.1201e-03],\n",
      "          [ 8.0719e-03,  8.5395e-04, -1.3053e-02,  ..., -7.2735e-03,\n",
      "           -1.9163e-02, -3.7828e-03],\n",
      "          ...,\n",
      "          [-1.1488e-02,  2.3397e-03, -8.2220e-03,  ...,  9.0274e-03,\n",
      "           -7.5734e-03,  6.4588e-03],\n",
      "          [ 8.7123e-03,  1.3224e-02, -1.2302e-02,  ..., -1.1751e-02,\n",
      "            2.2875e-03,  2.6198e-03],\n",
      "          [ 6.5248e-04,  2.0794e-03,  6.3256e-03,  ..., -4.0770e-03,\n",
      "            6.7863e-03, -6.6772e-03]],\n",
      "\n",
      "         [[-3.0326e-03,  2.1933e-03,  6.1133e-03,  ...,  6.0712e-03,\n",
      "            4.1525e-03,  1.9742e-02],\n",
      "          [ 1.1589e-02, -3.3631e-03,  1.2190e-02,  ...,  2.7730e-02,\n",
      "           -1.9908e-02,  6.6961e-03],\n",
      "          [ 1.8161e-03, -5.5414e-03, -1.0819e-02,  ...,  5.1868e-04,\n",
      "           -2.8235e-03,  1.3954e-02],\n",
      "          ...,\n",
      "          [-2.2135e-03, -4.0020e-03, -1.0244e-03,  ...,  2.4625e-02,\n",
      "            2.2170e-03,  1.6066e-03],\n",
      "          [ 1.5758e-02,  3.5331e-04, -6.6502e-04,  ..., -9.3405e-03,\n",
      "           -2.4637e-03,  1.1783e-02],\n",
      "          [-6.6067e-03, -1.2790e-02,  8.1487e-03,  ..., -1.0135e-02,\n",
      "            5.2325e-03,  2.2151e-03]],\n",
      "\n",
      "         [[ 9.3332e-03,  7.7744e-03,  1.3040e-02,  ..., -1.7268e-03,\n",
      "            6.2006e-03, -3.8602e-03],\n",
      "          [ 8.5856e-03, -1.4921e-02, -8.8747e-04,  ...,  1.7196e-02,\n",
      "           -2.1594e-02,  7.2361e-03],\n",
      "          [-3.0828e-03, -6.0976e-03, -1.1879e-02,  ..., -1.0895e-02,\n",
      "           -1.4709e-02, -2.2172e-02],\n",
      "          ...,\n",
      "          [ 5.6935e-03,  5.3074e-03, -7.0353e-03,  ..., -1.9743e-02,\n",
      "           -9.9992e-03,  1.0263e-02],\n",
      "          [-1.0952e-02,  3.9202e-04,  1.6634e-03,  ..., -1.0612e-02,\n",
      "            3.1681e-03,  1.2063e-03],\n",
      "          [ 6.5561e-03,  6.4249e-03,  9.0613e-03,  ..., -2.5637e-03,\n",
      "           -2.2427e-03, -1.7307e-02]]],\n",
      "\n",
      "\n",
      "        [[[ 1.6366e-02,  1.4495e-03, -2.0519e-02,  ..., -1.9109e-02,\n",
      "            5.7576e-03, -7.7072e-03],\n",
      "          [ 5.8366e-05, -1.4462e-02,  4.8393e-03,  ...,  7.8362e-03,\n",
      "            1.7288e-03,  2.7098e-03],\n",
      "          [-9.8431e-03, -6.1406e-03,  1.8758e-02,  ..., -9.5585e-03,\n",
      "            1.1475e-02,  1.5025e-02],\n",
      "          ...,\n",
      "          [ 1.5674e-03, -7.1779e-03,  8.6264e-03,  ...,  8.7012e-03,\n",
      "           -6.1145e-03, -4.5527e-03],\n",
      "          [ 1.5995e-02,  1.1406e-02, -1.4029e-02,  ...,  3.5233e-03,\n",
      "           -1.5473e-02, -5.7359e-03],\n",
      "          [-1.2619e-03, -3.8050e-03, -2.3284e-03,  ...,  1.3350e-02,\n",
      "           -5.9692e-03,  2.2029e-04]],\n",
      "\n",
      "         [[ 1.2666e-02,  9.6094e-03,  2.0969e-03,  ...,  4.5233e-03,\n",
      "           -2.8085e-02, -5.1351e-03],\n",
      "          [-7.1117e-03, -7.2539e-03, -6.2542e-03,  ...,  7.5830e-03,\n",
      "            1.3366e-03,  1.1534e-03],\n",
      "          [-1.4424e-03, -1.9771e-03,  1.2646e-02,  ..., -1.2445e-02,\n",
      "            4.5535e-03,  6.0988e-03],\n",
      "          ...,\n",
      "          [-2.5844e-03,  9.4151e-03,  5.9188e-03,  ...,  5.8686e-03,\n",
      "           -4.2958e-03, -1.0642e-02],\n",
      "          [ 8.6337e-03,  6.0907e-04, -1.3940e-03,  ...,  5.2990e-03,\n",
      "            5.4816e-03, -1.0861e-03],\n",
      "          [ 2.9613e-04,  1.1324e-03, -2.8806e-03,  ..., -2.5669e-03,\n",
      "           -1.5174e-04,  5.2737e-03]],\n",
      "\n",
      "         [[-1.2759e-02,  6.9300e-03, -4.3563e-03,  ..., -6.6656e-03,\n",
      "            9.4032e-03, -7.1846e-03],\n",
      "          [-8.8441e-04, -1.5341e-03, -1.6164e-03,  ..., -7.6720e-03,\n",
      "            1.4079e-03,  1.9082e-02],\n",
      "          [ 1.5573e-02,  1.0051e-03, -6.1301e-03,  ..., -9.3062e-03,\n",
      "            1.4703e-02, -1.4161e-02],\n",
      "          ...,\n",
      "          [ 1.7727e-03,  6.4116e-03, -1.6888e-03,  ..., -2.1245e-02,\n",
      "            2.3339e-03,  2.3796e-03],\n",
      "          [-7.9176e-04, -6.2703e-03, -6.4626e-03,  ..., -7.6956e-04,\n",
      "           -1.0238e-02, -1.1168e-02],\n",
      "          [ 6.6512e-03,  1.8719e-02, -1.4115e-02,  ..., -4.7322e-04,\n",
      "           -5.4789e-03, -8.9545e-03]]],\n",
      "\n",
      "\n",
      "        [[[ 9.8867e-03,  2.9857e-03,  1.0980e-02,  ..., -5.7236e-03,\n",
      "            1.9572e-02, -6.8134e-03],\n",
      "          [-1.0736e-03,  4.1509e-03, -4.2447e-03,  ..., -7.2315e-03,\n",
      "            8.1938e-03, -6.7737e-03],\n",
      "          [-6.9285e-03,  1.4001e-02, -1.2921e-02,  ..., -8.6525e-03,\n",
      "            1.1250e-02, -5.5211e-03],\n",
      "          ...,\n",
      "          [-7.2382e-03,  5.2124e-03,  7.5055e-03,  ..., -1.0648e-04,\n",
      "            5.2644e-03, -6.0239e-03],\n",
      "          [ 3.8849e-03,  1.1313e-02, -4.1606e-03,  ..., -1.1176e-02,\n",
      "           -9.2613e-03,  4.2209e-03],\n",
      "          [-1.2974e-02,  1.0991e-03, -8.1050e-03,  ..., -1.0096e-02,\n",
      "            1.1313e-02,  7.9103e-03]],\n",
      "\n",
      "         [[ 1.0673e-02,  1.3254e-02, -9.3568e-03,  ...,  3.8275e-03,\n",
      "            3.3587e-03,  6.4642e-03],\n",
      "          [ 7.1431e-03, -2.0438e-02, -5.3837e-03,  ..., -4.9116e-03,\n",
      "            5.6962e-03,  4.1777e-03],\n",
      "          [-2.9295e-03,  3.9410e-03, -5.3232e-04,  ...,  3.3892e-03,\n",
      "           -1.1014e-02,  2.1526e-03],\n",
      "          ...,\n",
      "          [-6.2589e-03, -6.0228e-05,  4.2736e-03,  ..., -7.6446e-03,\n",
      "            3.6205e-03, -1.1979e-02],\n",
      "          [ 1.3846e-02, -1.1306e-02,  1.3002e-03,  ..., -5.6670e-03,\n",
      "            2.8874e-03,  1.1559e-02],\n",
      "          [ 9.1797e-03,  1.5678e-02,  4.6736e-03,  ..., -2.6340e-03,\n",
      "            1.2989e-02,  9.8425e-03]],\n",
      "\n",
      "         [[ 5.2379e-03,  1.3084e-02, -1.3701e-02,  ...,  6.4807e-03,\n",
      "            1.7681e-03,  1.4885e-02],\n",
      "          [-1.2697e-02, -9.7618e-03,  1.6432e-02,  ...,  5.6428e-04,\n",
      "            9.3148e-03,  1.8098e-03],\n",
      "          [-2.3201e-03,  4.9846e-03, -1.3070e-02,  ...,  1.6809e-03,\n",
      "           -1.6947e-02,  4.1085e-03],\n",
      "          ...,\n",
      "          [-6.0791e-03,  1.1865e-02,  1.3808e-02,  ..., -1.2040e-02,\n",
      "            5.2333e-03, -6.0469e-03],\n",
      "          [-8.7991e-03, -1.5785e-02,  1.4528e-03,  ...,  1.0662e-02,\n",
      "           -1.2045e-02, -1.1492e-02],\n",
      "          [-1.0257e-02, -2.4243e-02, -1.6395e-03,  ..., -1.1752e-03,\n",
      "            7.8239e-03,  5.2034e-03]]]], requires_grad=True)\n"
     ]
    }
   ],
   "source": [
    "# check weight initialization\n",
    "for p in model.parameters():\n",
    "    print(p)\n",
    "    break"
   ]
  },
  {
   "cell_type": "markdown",
   "id": "fa4e1bb6-07da-4c08-8484-cb206566cfe2",
   "metadata": {},
   "source": [
    "# 모델 학습"
   ]
  },
  {
   "cell_type": "code",
   "execution_count": null,
   "id": "c5783b00-679b-42e4-95a0-4f8d55b43d31",
   "metadata": {},
   "outputs": [],
   "source": [
    "# 트레인 정의\n",
    "def train(model, device, train_loader, optimizer, epoch):\n",
    "    model.train()\n",
    "    for batch_idx, (data, target) in enumerate(train_dl):\n",
    "        # enumberate() : 인덱스와 원소로 이루어진 튜플(tuple)을 만들어줌\n",
    "        target = target.type(torch.LongTensor)\n",
    "        data, target = data.to(device), target.to(device)\n",
    "        optimizer.zero_grad() # 항상 backpropagation 하기전에 미분(gradient)을 zero로 만들어주고 시작해야 한다.\n",
    "        output = model(data)\n",
    "        loss = criterion(output, target) # criterion = loss_fn\n",
    "        loss.backward() # Computes the gradient of current tensor w.r.t. graph leaves\n",
    "        optimizer.step() # step() : 파라미터를 업데이트함\n",
    "        if (batch_idx + 1) % 30 == 0:\n",
    "            print(\"Train Epoch:{} [{}/{} ({:.0f}%)]\\tLoss: {:.6f}\".format(\n",
    "                epoch, batch_idx * len(data), len(train_loader.dataset),\n",
    "                100. * batch_idx / len(train_loader), loss.item()))"
   ]
  },
  {
   "cell_type": "code",
   "execution_count": 32,
   "id": "6ab9b7aa-eed8-42ee-9d8b-bda944acc551",
   "metadata": {},
   "outputs": [],
   "source": [
    "def test(model, device, test_loader):\n",
    "    model.eval()\n",
    "    test_loss = 0\n",
    "    correct = 0\n",
    "    with torch.no_grad():\n",
    "        for data, target in test_loader:\n",
    "            data, target = data.to(device), target.to(device)\n",
    "            output = model(data)\n",
    "            test_loss += criterion(output, target, reduction='sum').item()\n",
    "            pred = output.max(1, keepdim=True)[1]\n",
    "            correct += pred.eq(target.view_as(pred)).sum().item()\n",
    "\n",
    "        test_loss /= len(test_loader.dataset)  # -> mean\n",
    "        print(\"\\nTest set: Average loss: {:.4f}, Accuracy: {}/{} ({:.0f}%)\\n\".format(\n",
    "            test_loss, correct, len(test_loader.dataset), 100. * correct / len(test_loader.dataset)))\n",
    "        print('='*50)"
   ]
  },
  {
   "cell_type": "code",
   "execution_count": 33,
   "id": "1b8b3674-0ae0-4f71-aec1-ec405a2bd907",
   "metadata": {},
   "outputs": [
    {
     "ename": "NameError",
     "evalue": "name 'train' is not defined",
     "output_type": "error",
     "traceback": [
      "\u001b[1;31m---------------------------------------------------------------------------\u001b[0m",
      "\u001b[1;31mNameError\u001b[0m                                 Traceback (most recent call last)",
      "Cell \u001b[1;32mIn[33], line 2\u001b[0m\n\u001b[0;32m      1\u001b[0m \u001b[38;5;28;01mfor\u001b[39;00m epoch \u001b[38;5;129;01min\u001b[39;00m \u001b[38;5;28mrange\u001b[39m(\u001b[38;5;241m1\u001b[39m, epochs\u001b[38;5;241m+\u001b[39m\u001b[38;5;241m1\u001b[39m):\n\u001b[1;32m----> 2\u001b[0m     \u001b[43mtrain\u001b[49m(model, device, train_dl, optimizer, epoch)\n\u001b[0;32m      3\u001b[0m     test(model, device, val_dl)\n",
      "\u001b[1;31mNameError\u001b[0m: name 'train' is not defined"
     ]
    }
   ],
   "source": [
    "for epoch in range(1, epochs+1):\n",
    "    train(model, device, train_dl, optimizer, epoch)\n",
    "    test(model, device, val_dl)"
   ]
  }
 ],
 "metadata": {
  "kernelspec": {
   "display_name": "Python 3 (ipykernel)",
   "language": "python",
   "name": "python3"
  },
  "language_info": {
   "codemirror_mode": {
    "name": "ipython",
    "version": 3
   },
   "file_extension": ".py",
   "mimetype": "text/x-python",
   "name": "python",
   "nbconvert_exporter": "python",
   "pygments_lexer": "ipython3",
   "version": "3.10.13"
  }
 },
 "nbformat": 4,
 "nbformat_minor": 5
}
